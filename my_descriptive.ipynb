{
 "cells": [
  {
   "cell_type": "code",
   "execution_count": 100,
   "metadata": {},
   "outputs": [],
   "source": [
    "import pandas as pd\n",
    "import numpy as np\n",
    "from mpl_toolkits.mplot3d import Axes3D\n",
    "from sklearn.preprocessing import StandardScaler\n",
    "import matplotlib.pyplot as plt\n",
    "\n",
    "import matplotlib.animation as animation\n",
    "# from wand.image import Image\n",
    "# from wand.display import display"
   ]
  },
  {
   "cell_type": "code",
   "execution_count": 101,
   "metadata": {},
   "outputs": [],
   "source": [
    "odi_info= pd.read_csv(r'/home/payal/Desktop/cricket /odi_info.csv')"
   ]
  },
  {
   "cell_type": "code",
   "execution_count": 102,
   "metadata": {},
   "outputs": [],
   "source": [
    "odi_scorecard = pd.read_csv(r'/home/payal/Desktop/odi_temp.csv')"
   ]
  },
  {
   "cell_type": "code",
   "execution_count": 103,
   "metadata": {
    "scrolled": true
   },
   "outputs": [
    {
     "data": {
      "text/html": [
       "<div>\n",
       "<style scoped>\n",
       "    .dataframe tbody tr th:only-of-type {\n",
       "        vertical-align: middle;\n",
       "    }\n",
       "\n",
       "    .dataframe tbody tr th {\n",
       "        vertical-align: top;\n",
       "    }\n",
       "\n",
       "    .dataframe thead th {\n",
       "        text-align: right;\n",
       "    }\n",
       "</style>\n",
       "<table border=\"1\" class=\"dataframe\">\n",
       "  <thead>\n",
       "    <tr style=\"text-align: right;\">\n",
       "      <th></th>\n",
       "      <th>city</th>\n",
       "      <th>competition</th>\n",
       "      <th>date</th>\n",
       "      <th>match-id</th>\n",
       "      <th>gender</th>\n",
       "      <th>match-number</th>\n",
       "      <th>match-referee</th>\n",
       "      <th>method</th>\n",
       "      <th>neutralvenue</th>\n",
       "      <th>outcome</th>\n",
       "      <th>...</th>\n",
       "      <th>toss-decision</th>\n",
       "      <th>toss-winner</th>\n",
       "      <th>tv-umpire</th>\n",
       "      <th>umpire-0</th>\n",
       "      <th>umpire-1</th>\n",
       "      <th>venue</th>\n",
       "      <th>winner</th>\n",
       "      <th>winner-runs</th>\n",
       "      <th>winner-wickets</th>\n",
       "      <th>year</th>\n",
       "    </tr>\n",
       "  </thead>\n",
       "  <tbody>\n",
       "    <tr>\n",
       "      <th>0</th>\n",
       "      <td>Belfast</td>\n",
       "      <td>NaN</td>\n",
       "      <td>2006/06/13</td>\n",
       "      <td>225171</td>\n",
       "      <td>male</td>\n",
       "      <td>NaN</td>\n",
       "      <td>CH Lloyd</td>\n",
       "      <td>NaN</td>\n",
       "      <td>NaN</td>\n",
       "      <td>NaN</td>\n",
       "      <td>...</td>\n",
       "      <td>bat</td>\n",
       "      <td>England</td>\n",
       "      <td>NaN</td>\n",
       "      <td>R Dill</td>\n",
       "      <td>DB Hair</td>\n",
       "      <td>Civil Service Cricket Club</td>\n",
       "      <td>England</td>\n",
       "      <td>38.0</td>\n",
       "      <td>NaN</td>\n",
       "      <td>2006</td>\n",
       "    </tr>\n",
       "    <tr>\n",
       "      <th>1</th>\n",
       "      <td>London</td>\n",
       "      <td>NaN</td>\n",
       "      <td>2006/09/02</td>\n",
       "      <td>225246</td>\n",
       "      <td>male</td>\n",
       "      <td>2.0</td>\n",
       "      <td>MJ Procter</td>\n",
       "      <td>D/L</td>\n",
       "      <td>NaN</td>\n",
       "      <td>NaN</td>\n",
       "      <td>...</td>\n",
       "      <td>field</td>\n",
       "      <td>Pakistan</td>\n",
       "      <td>NJ Llong</td>\n",
       "      <td>MR Benson</td>\n",
       "      <td>BR Doctrove</td>\n",
       "      <td>Lord's</td>\n",
       "      <td>Pakistan</td>\n",
       "      <td>NaN</td>\n",
       "      <td>7.0</td>\n",
       "      <td>2006</td>\n",
       "    </tr>\n",
       "    <tr>\n",
       "      <th>2</th>\n",
       "      <td>Southampton</td>\n",
       "      <td>NaN</td>\n",
       "      <td>2006/09/05</td>\n",
       "      <td>225247</td>\n",
       "      <td>male</td>\n",
       "      <td>3.0</td>\n",
       "      <td>MJ Procter</td>\n",
       "      <td>NaN</td>\n",
       "      <td>NaN</td>\n",
       "      <td>NaN</td>\n",
       "      <td>...</td>\n",
       "      <td>field</td>\n",
       "      <td>Pakistan</td>\n",
       "      <td>PJ Hartley</td>\n",
       "      <td>BR Doctrove</td>\n",
       "      <td>NJ Llong</td>\n",
       "      <td>The Rose Bowl</td>\n",
       "      <td>Pakistan</td>\n",
       "      <td>NaN</td>\n",
       "      <td>2.0</td>\n",
       "      <td>2006</td>\n",
       "    </tr>\n",
       "    <tr>\n",
       "      <th>3</th>\n",
       "      <td>Nottingham</td>\n",
       "      <td>NaN</td>\n",
       "      <td>2006/09/08</td>\n",
       "      <td>225248</td>\n",
       "      <td>male</td>\n",
       "      <td>4.0</td>\n",
       "      <td>MJ Procter</td>\n",
       "      <td>NaN</td>\n",
       "      <td>NaN</td>\n",
       "      <td>NaN</td>\n",
       "      <td>...</td>\n",
       "      <td>bat</td>\n",
       "      <td>Pakistan</td>\n",
       "      <td>IJ Gould</td>\n",
       "      <td>MR Benson</td>\n",
       "      <td>DJ Harper</td>\n",
       "      <td>Trent Bridge</td>\n",
       "      <td>England</td>\n",
       "      <td>NaN</td>\n",
       "      <td>8.0</td>\n",
       "      <td>2006</td>\n",
       "    </tr>\n",
       "    <tr>\n",
       "      <th>4</th>\n",
       "      <td>Birmingham</td>\n",
       "      <td>NaN</td>\n",
       "      <td>2006/09/10</td>\n",
       "      <td>225249</td>\n",
       "      <td>male</td>\n",
       "      <td>5.0</td>\n",
       "      <td>MJ Procter</td>\n",
       "      <td>NaN</td>\n",
       "      <td>NaN</td>\n",
       "      <td>NaN</td>\n",
       "      <td>...</td>\n",
       "      <td>field</td>\n",
       "      <td>England</td>\n",
       "      <td>NJ Llong</td>\n",
       "      <td>IJ Gould</td>\n",
       "      <td>DJ Harper</td>\n",
       "      <td>Edgbaston</td>\n",
       "      <td>England</td>\n",
       "      <td>NaN</td>\n",
       "      <td>3.0</td>\n",
       "      <td>2006</td>\n",
       "    </tr>\n",
       "  </tbody>\n",
       "</table>\n",
       "<p>5 rows × 26 columns</p>\n",
       "</div>"
      ],
      "text/plain": [
       "          city competition        date  match-id gender  match-number  \\\n",
       "0      Belfast         NaN  2006/06/13    225171   male           NaN   \n",
       "1       London         NaN  2006/09/02    225246   male           2.0   \n",
       "2  Southampton         NaN  2006/09/05    225247   male           3.0   \n",
       "3   Nottingham         NaN  2006/09/08    225248   male           4.0   \n",
       "4   Birmingham         NaN  2006/09/10    225249   male           5.0   \n",
       "\n",
       "  match-referee method neutralvenue outcome  ... toss-decision toss-winner  \\\n",
       "0      CH Lloyd    NaN          NaN     NaN  ...           bat     England   \n",
       "1    MJ Procter    D/L          NaN     NaN  ...         field    Pakistan   \n",
       "2    MJ Procter    NaN          NaN     NaN  ...         field    Pakistan   \n",
       "3    MJ Procter    NaN          NaN     NaN  ...           bat    Pakistan   \n",
       "4    MJ Procter    NaN          NaN     NaN  ...         field     England   \n",
       "\n",
       "    tv-umpire     umpire-0     umpire-1                       venue    winner  \\\n",
       "0         NaN       R Dill      DB Hair  Civil Service Cricket Club   England   \n",
       "1    NJ Llong    MR Benson  BR Doctrove                      Lord's  Pakistan   \n",
       "2  PJ Hartley  BR Doctrove     NJ Llong               The Rose Bowl  Pakistan   \n",
       "3    IJ Gould    MR Benson    DJ Harper                Trent Bridge   England   \n",
       "4    NJ Llong     IJ Gould    DJ Harper                   Edgbaston   England   \n",
       "\n",
       "  winner-runs winner-wickets  year  \n",
       "0        38.0            NaN  2006  \n",
       "1         NaN            7.0  2006  \n",
       "2         NaN            2.0  2006  \n",
       "3         NaN            8.0  2006  \n",
       "4         NaN            3.0  2006  \n",
       "\n",
       "[5 rows x 26 columns]"
      ]
     },
     "execution_count": 103,
     "metadata": {},
     "output_type": "execute_result"
    }
   ],
   "source": [
    "odi_info.head()"
   ]
  },
  {
   "cell_type": "code",
   "execution_count": 104,
   "metadata": {},
   "outputs": [
    {
     "data": {
      "text/html": [
       "<div>\n",
       "<style scoped>\n",
       "    .dataframe tbody tr th:only-of-type {\n",
       "        vertical-align: middle;\n",
       "    }\n",
       "\n",
       "    .dataframe tbody tr th {\n",
       "        vertical-align: top;\n",
       "    }\n",
       "\n",
       "    .dataframe thead th {\n",
       "        text-align: right;\n",
       "    }\n",
       "</style>\n",
       "<table border=\"1\" class=\"dataframe\">\n",
       "  <thead>\n",
       "    <tr style=\"text-align: right;\">\n",
       "      <th></th>\n",
       "      <th>match_id</th>\n",
       "      <th>team_name</th>\n",
       "      <th>innings</th>\n",
       "      <th>over_ball</th>\n",
       "      <th>name</th>\n",
       "      <th>ball_score</th>\n",
       "      <th>wicket</th>\n",
       "      <th>wicket_by</th>\n",
       "      <th>batsman_out</th>\n",
       "      <th>extras</th>\n",
       "    </tr>\n",
       "  </thead>\n",
       "  <tbody>\n",
       "    <tr>\n",
       "      <th>0</th>\n",
       "      <td>256608</td>\n",
       "      <td>Australia</td>\n",
       "      <td>1</td>\n",
       "      <td>1.1</td>\n",
       "      <td>PA Jaques</td>\n",
       "      <td>0</td>\n",
       "      <td>NaN</td>\n",
       "      <td>0</td>\n",
       "      <td>NaN</td>\n",
       "      <td>0</td>\n",
       "    </tr>\n",
       "    <tr>\n",
       "      <th>1</th>\n",
       "      <td>256608</td>\n",
       "      <td>Australia</td>\n",
       "      <td>1</td>\n",
       "      <td>1.2</td>\n",
       "      <td>PA Jaques</td>\n",
       "      <td>0</td>\n",
       "      <td>NaN</td>\n",
       "      <td>0</td>\n",
       "      <td>NaN</td>\n",
       "      <td>0</td>\n",
       "    </tr>\n",
       "    <tr>\n",
       "      <th>2</th>\n",
       "      <td>256608</td>\n",
       "      <td>Australia</td>\n",
       "      <td>1</td>\n",
       "      <td>1.3</td>\n",
       "      <td>PA Jaques</td>\n",
       "      <td>0</td>\n",
       "      <td>NaN</td>\n",
       "      <td>0</td>\n",
       "      <td>NaN</td>\n",
       "      <td>0</td>\n",
       "    </tr>\n",
       "    <tr>\n",
       "      <th>3</th>\n",
       "      <td>256608</td>\n",
       "      <td>Australia</td>\n",
       "      <td>1</td>\n",
       "      <td>1.4</td>\n",
       "      <td>PA Jaques</td>\n",
       "      <td>0</td>\n",
       "      <td>NaN</td>\n",
       "      <td>0</td>\n",
       "      <td>NaN</td>\n",
       "      <td>0</td>\n",
       "    </tr>\n",
       "    <tr>\n",
       "      <th>4</th>\n",
       "      <td>256608</td>\n",
       "      <td>Australia</td>\n",
       "      <td>1</td>\n",
       "      <td>1.5</td>\n",
       "      <td>PA Jaques</td>\n",
       "      <td>2</td>\n",
       "      <td>NaN</td>\n",
       "      <td>0</td>\n",
       "      <td>NaN</td>\n",
       "      <td>0</td>\n",
       "    </tr>\n",
       "  </tbody>\n",
       "</table>\n",
       "</div>"
      ],
      "text/plain": [
       "   match_id  team_name  innings  over_ball       name  ball_score wicket  \\\n",
       "0    256608  Australia        1        1.1  PA Jaques           0    NaN   \n",
       "1    256608  Australia        1        1.2  PA Jaques           0    NaN   \n",
       "2    256608  Australia        1        1.3  PA Jaques           0    NaN   \n",
       "3    256608  Australia        1        1.4  PA Jaques           0    NaN   \n",
       "4    256608  Australia        1        1.5  PA Jaques           2    NaN   \n",
       "\n",
       "  wicket_by batsman_out  extras  \n",
       "0         0         NaN       0  \n",
       "1         0         NaN       0  \n",
       "2         0         NaN       0  \n",
       "3         0         NaN       0  \n",
       "4         0         NaN       0  "
      ]
     },
     "execution_count": 104,
     "metadata": {},
     "output_type": "execute_result"
    }
   ],
   "source": [
    "odi_scorecard.head()"
   ]
  },
  {
   "cell_type": "code",
   "execution_count": 105,
   "metadata": {},
   "outputs": [
    {
     "data": {
      "text/plain": [
       "Index(['match_id', 'team_name', 'innings', 'over_ball', 'name', 'ball_score',\n",
       "       'wicket', 'wicket_by', 'batsman_out', 'extras'],\n",
       "      dtype='object')"
      ]
     },
     "execution_count": 105,
     "metadata": {},
     "output_type": "execute_result"
    }
   ],
   "source": [
    "odi_scorecard.columns"
   ]
  },
  {
   "cell_type": "code",
   "execution_count": null,
   "metadata": {},
   "outputs": [],
   "source": []
  },
  {
   "cell_type": "code",
   "execution_count": null,
   "metadata": {},
   "outputs": [],
   "source": []
  },
  {
   "cell_type": "code",
   "execution_count": 106,
   "metadata": {},
   "outputs": [],
   "source": [
    "# odi_info['date_1'].value_counts()"
   ]
  },
  {
   "cell_type": "code",
   "execution_count": 107,
   "metadata": {},
   "outputs": [],
   "source": [
    "# odi_info['date'] = pd.to_datetime(odi_info['date_0'])\n",
    "# odi_info['season']= odi_info['date'].dt.year\n",
    "# odi_info.head()"
   ]
  },
  {
   "cell_type": "code",
   "execution_count": 108,
   "metadata": {},
   "outputs": [],
   "source": [
    "odi_scorecard['ball_of_over'] = odi_scorecard.over_ball.astype(str).str.extract('\\.(.*)').astype(int)"
   ]
  },
  {
   "cell_type": "code",
   "execution_count": 109,
   "metadata": {
    "scrolled": true
   },
   "outputs": [
    {
     "data": {
      "text/html": [
       "<div>\n",
       "<style scoped>\n",
       "    .dataframe tbody tr th:only-of-type {\n",
       "        vertical-align: middle;\n",
       "    }\n",
       "\n",
       "    .dataframe tbody tr th {\n",
       "        vertical-align: top;\n",
       "    }\n",
       "\n",
       "    .dataframe thead th {\n",
       "        text-align: right;\n",
       "    }\n",
       "</style>\n",
       "<table border=\"1\" class=\"dataframe\">\n",
       "  <thead>\n",
       "    <tr style=\"text-align: right;\">\n",
       "      <th></th>\n",
       "      <th>match_id</th>\n",
       "      <th>team_name</th>\n",
       "      <th>innings</th>\n",
       "      <th>over_ball</th>\n",
       "      <th>name</th>\n",
       "      <th>ball_score</th>\n",
       "      <th>wicket</th>\n",
       "      <th>wicket_by</th>\n",
       "      <th>batsman_out</th>\n",
       "      <th>extras</th>\n",
       "      <th>ball_of_over</th>\n",
       "    </tr>\n",
       "  </thead>\n",
       "  <tbody>\n",
       "    <tr>\n",
       "      <th>0</th>\n",
       "      <td>256608</td>\n",
       "      <td>Australia</td>\n",
       "      <td>1</td>\n",
       "      <td>1.1</td>\n",
       "      <td>PA Jaques</td>\n",
       "      <td>0</td>\n",
       "      <td>NaN</td>\n",
       "      <td>0</td>\n",
       "      <td>NaN</td>\n",
       "      <td>0</td>\n",
       "      <td>1</td>\n",
       "    </tr>\n",
       "    <tr>\n",
       "      <th>1</th>\n",
       "      <td>256608</td>\n",
       "      <td>Australia</td>\n",
       "      <td>1</td>\n",
       "      <td>1.2</td>\n",
       "      <td>PA Jaques</td>\n",
       "      <td>0</td>\n",
       "      <td>NaN</td>\n",
       "      <td>0</td>\n",
       "      <td>NaN</td>\n",
       "      <td>0</td>\n",
       "      <td>2</td>\n",
       "    </tr>\n",
       "    <tr>\n",
       "      <th>2</th>\n",
       "      <td>256608</td>\n",
       "      <td>Australia</td>\n",
       "      <td>1</td>\n",
       "      <td>1.3</td>\n",
       "      <td>PA Jaques</td>\n",
       "      <td>0</td>\n",
       "      <td>NaN</td>\n",
       "      <td>0</td>\n",
       "      <td>NaN</td>\n",
       "      <td>0</td>\n",
       "      <td>3</td>\n",
       "    </tr>\n",
       "    <tr>\n",
       "      <th>3</th>\n",
       "      <td>256608</td>\n",
       "      <td>Australia</td>\n",
       "      <td>1</td>\n",
       "      <td>1.4</td>\n",
       "      <td>PA Jaques</td>\n",
       "      <td>0</td>\n",
       "      <td>NaN</td>\n",
       "      <td>0</td>\n",
       "      <td>NaN</td>\n",
       "      <td>0</td>\n",
       "      <td>4</td>\n",
       "    </tr>\n",
       "    <tr>\n",
       "      <th>4</th>\n",
       "      <td>256608</td>\n",
       "      <td>Australia</td>\n",
       "      <td>1</td>\n",
       "      <td>1.5</td>\n",
       "      <td>PA Jaques</td>\n",
       "      <td>2</td>\n",
       "      <td>NaN</td>\n",
       "      <td>0</td>\n",
       "      <td>NaN</td>\n",
       "      <td>0</td>\n",
       "      <td>5</td>\n",
       "    </tr>\n",
       "    <tr>\n",
       "      <th>5</th>\n",
       "      <td>256608</td>\n",
       "      <td>Australia</td>\n",
       "      <td>1</td>\n",
       "      <td>1.6</td>\n",
       "      <td>PA Jaques</td>\n",
       "      <td>1</td>\n",
       "      <td>NaN</td>\n",
       "      <td>0</td>\n",
       "      <td>NaN</td>\n",
       "      <td>0</td>\n",
       "      <td>6</td>\n",
       "    </tr>\n",
       "    <tr>\n",
       "      <th>6</th>\n",
       "      <td>256608</td>\n",
       "      <td>India</td>\n",
       "      <td>2</td>\n",
       "      <td>2.1</td>\n",
       "      <td>R Dravid</td>\n",
       "      <td>0</td>\n",
       "      <td>NaN</td>\n",
       "      <td>0</td>\n",
       "      <td>NaN</td>\n",
       "      <td>0</td>\n",
       "      <td>1</td>\n",
       "    </tr>\n",
       "    <tr>\n",
       "      <th>7</th>\n",
       "      <td>256608</td>\n",
       "      <td>India</td>\n",
       "      <td>2</td>\n",
       "      <td>2.2</td>\n",
       "      <td>R Dravid</td>\n",
       "      <td>0</td>\n",
       "      <td>NaN</td>\n",
       "      <td>0</td>\n",
       "      <td>NaN</td>\n",
       "      <td>0</td>\n",
       "      <td>2</td>\n",
       "    </tr>\n",
       "    <tr>\n",
       "      <th>8</th>\n",
       "      <td>256608</td>\n",
       "      <td>India</td>\n",
       "      <td>2</td>\n",
       "      <td>2.3</td>\n",
       "      <td>R Dravid</td>\n",
       "      <td>0</td>\n",
       "      <td>NaN</td>\n",
       "      <td>0</td>\n",
       "      <td>NaN</td>\n",
       "      <td>0</td>\n",
       "      <td>3</td>\n",
       "    </tr>\n",
       "    <tr>\n",
       "      <th>9</th>\n",
       "      <td>256608</td>\n",
       "      <td>India</td>\n",
       "      <td>2</td>\n",
       "      <td>2.4</td>\n",
       "      <td>R Dravid</td>\n",
       "      <td>0</td>\n",
       "      <td>NaN</td>\n",
       "      <td>0</td>\n",
       "      <td>NaN</td>\n",
       "      <td>0</td>\n",
       "      <td>4</td>\n",
       "    </tr>\n",
       "    <tr>\n",
       "      <th>10</th>\n",
       "      <td>256608</td>\n",
       "      <td>India</td>\n",
       "      <td>2</td>\n",
       "      <td>2.5</td>\n",
       "      <td>R Dravid</td>\n",
       "      <td>0</td>\n",
       "      <td>NaN</td>\n",
       "      <td>0</td>\n",
       "      <td>NaN</td>\n",
       "      <td>0</td>\n",
       "      <td>5</td>\n",
       "    </tr>\n",
       "    <tr>\n",
       "      <th>11</th>\n",
       "      <td>256608</td>\n",
       "      <td>India</td>\n",
       "      <td>2</td>\n",
       "      <td>2.6</td>\n",
       "      <td>R Dravid</td>\n",
       "      <td>0</td>\n",
       "      <td>NaN</td>\n",
       "      <td>0</td>\n",
       "      <td>NaN</td>\n",
       "      <td>0</td>\n",
       "      <td>6</td>\n",
       "    </tr>\n",
       "    <tr>\n",
       "      <th>12</th>\n",
       "      <td>656465</td>\n",
       "      <td>Ireland</td>\n",
       "      <td>1</td>\n",
       "      <td>1.1</td>\n",
       "      <td>WTS Porterfield</td>\n",
       "      <td>0</td>\n",
       "      <td>NaN</td>\n",
       "      <td>0</td>\n",
       "      <td>NaN</td>\n",
       "      <td>0</td>\n",
       "      <td>1</td>\n",
       "    </tr>\n",
       "    <tr>\n",
       "      <th>13</th>\n",
       "      <td>656465</td>\n",
       "      <td>Ireland</td>\n",
       "      <td>1</td>\n",
       "      <td>1.2</td>\n",
       "      <td>WTS Porterfield</td>\n",
       "      <td>0</td>\n",
       "      <td>NaN</td>\n",
       "      <td>0</td>\n",
       "      <td>NaN</td>\n",
       "      <td>0</td>\n",
       "      <td>2</td>\n",
       "    </tr>\n",
       "    <tr>\n",
       "      <th>14</th>\n",
       "      <td>656465</td>\n",
       "      <td>Ireland</td>\n",
       "      <td>1</td>\n",
       "      <td>1.3</td>\n",
       "      <td>WTS Porterfield</td>\n",
       "      <td>0</td>\n",
       "      <td>NaN</td>\n",
       "      <td>0</td>\n",
       "      <td>NaN</td>\n",
       "      <td>0</td>\n",
       "      <td>3</td>\n",
       "    </tr>\n",
       "    <tr>\n",
       "      <th>15</th>\n",
       "      <td>656465</td>\n",
       "      <td>Ireland</td>\n",
       "      <td>1</td>\n",
       "      <td>1.4</td>\n",
       "      <td>WTS Porterfield</td>\n",
       "      <td>4</td>\n",
       "      <td>NaN</td>\n",
       "      <td>0</td>\n",
       "      <td>NaN</td>\n",
       "      <td>0</td>\n",
       "      <td>4</td>\n",
       "    </tr>\n",
       "    <tr>\n",
       "      <th>16</th>\n",
       "      <td>656465</td>\n",
       "      <td>Ireland</td>\n",
       "      <td>1</td>\n",
       "      <td>1.5</td>\n",
       "      <td>WTS Porterfield</td>\n",
       "      <td>0</td>\n",
       "      <td>NaN</td>\n",
       "      <td>0</td>\n",
       "      <td>NaN</td>\n",
       "      <td>0</td>\n",
       "      <td>5</td>\n",
       "    </tr>\n",
       "    <tr>\n",
       "      <th>17</th>\n",
       "      <td>656465</td>\n",
       "      <td>Ireland</td>\n",
       "      <td>1</td>\n",
       "      <td>1.6</td>\n",
       "      <td>WTS Porterfield</td>\n",
       "      <td>0</td>\n",
       "      <td>NaN</td>\n",
       "      <td>0</td>\n",
       "      <td>NaN</td>\n",
       "      <td>1</td>\n",
       "      <td>6</td>\n",
       "    </tr>\n",
       "    <tr>\n",
       "      <th>18</th>\n",
       "      <td>656465</td>\n",
       "      <td>India</td>\n",
       "      <td>2</td>\n",
       "      <td>2.1</td>\n",
       "      <td>RG Sharma</td>\n",
       "      <td>0</td>\n",
       "      <td>NaN</td>\n",
       "      <td>0</td>\n",
       "      <td>NaN</td>\n",
       "      <td>0</td>\n",
       "      <td>1</td>\n",
       "    </tr>\n",
       "    <tr>\n",
       "      <th>19</th>\n",
       "      <td>656465</td>\n",
       "      <td>India</td>\n",
       "      <td>2</td>\n",
       "      <td>2.2</td>\n",
       "      <td>RG Sharma</td>\n",
       "      <td>0</td>\n",
       "      <td>NaN</td>\n",
       "      <td>0</td>\n",
       "      <td>NaN</td>\n",
       "      <td>0</td>\n",
       "      <td>2</td>\n",
       "    </tr>\n",
       "  </tbody>\n",
       "</table>\n",
       "</div>"
      ],
      "text/plain": [
       "    match_id  team_name  innings  over_ball             name  ball_score  \\\n",
       "0     256608  Australia        1        1.1        PA Jaques           0   \n",
       "1     256608  Australia        1        1.2        PA Jaques           0   \n",
       "2     256608  Australia        1        1.3        PA Jaques           0   \n",
       "3     256608  Australia        1        1.4        PA Jaques           0   \n",
       "4     256608  Australia        1        1.5        PA Jaques           2   \n",
       "5     256608  Australia        1        1.6        PA Jaques           1   \n",
       "6     256608      India        2        2.1         R Dravid           0   \n",
       "7     256608      India        2        2.2         R Dravid           0   \n",
       "8     256608      India        2        2.3         R Dravid           0   \n",
       "9     256608      India        2        2.4         R Dravid           0   \n",
       "10    256608      India        2        2.5         R Dravid           0   \n",
       "11    256608      India        2        2.6         R Dravid           0   \n",
       "12    656465    Ireland        1        1.1  WTS Porterfield           0   \n",
       "13    656465    Ireland        1        1.2  WTS Porterfield           0   \n",
       "14    656465    Ireland        1        1.3  WTS Porterfield           0   \n",
       "15    656465    Ireland        1        1.4  WTS Porterfield           4   \n",
       "16    656465    Ireland        1        1.5  WTS Porterfield           0   \n",
       "17    656465    Ireland        1        1.6  WTS Porterfield           0   \n",
       "18    656465      India        2        2.1        RG Sharma           0   \n",
       "19    656465      India        2        2.2        RG Sharma           0   \n",
       "\n",
       "   wicket wicket_by batsman_out  extras  ball_of_over  \n",
       "0     NaN         0         NaN       0             1  \n",
       "1     NaN         0         NaN       0             2  \n",
       "2     NaN         0         NaN       0             3  \n",
       "3     NaN         0         NaN       0             4  \n",
       "4     NaN         0         NaN       0             5  \n",
       "5     NaN         0         NaN       0             6  \n",
       "6     NaN         0         NaN       0             1  \n",
       "7     NaN         0         NaN       0             2  \n",
       "8     NaN         0         NaN       0             3  \n",
       "9     NaN         0         NaN       0             4  \n",
       "10    NaN         0         NaN       0             5  \n",
       "11    NaN         0         NaN       0             6  \n",
       "12    NaN         0         NaN       0             1  \n",
       "13    NaN         0         NaN       0             2  \n",
       "14    NaN         0         NaN       0             3  \n",
       "15    NaN         0         NaN       0             4  \n",
       "16    NaN         0         NaN       0             5  \n",
       "17    NaN         0         NaN       1             6  \n",
       "18    NaN         0         NaN       0             1  \n",
       "19    NaN         0         NaN       0             2  "
      ]
     },
     "execution_count": 109,
     "metadata": {},
     "output_type": "execute_result"
    }
   ],
   "source": [
    "odi_scorecard.head(20)"
   ]
  },
  {
   "cell_type": "code",
   "execution_count": 110,
   "metadata": {},
   "outputs": [
    {
     "data": {
      "text/plain": [
       "Index(['city', 'competition', 'date', 'match-id', 'gender', 'match-number',\n",
       "       'match-referee', 'method', 'neutralvenue', 'outcome', 'player-of-match',\n",
       "       'reserve-umpire', 'season', 'series', 'team-0', 'team-1',\n",
       "       'toss-decision', 'toss-winner', 'tv-umpire', 'umpire-0', 'umpire-1',\n",
       "       'venue', 'winner', 'winner-runs', 'winner-wickets', 'year'],\n",
       "      dtype='object')"
      ]
     },
     "execution_count": 110,
     "metadata": {},
     "output_type": "execute_result"
    }
   ],
   "source": [
    "odi_info.columns"
   ]
  },
  {
   "cell_type": "code",
   "execution_count": 111,
   "metadata": {},
   "outputs": [],
   "source": [
    "# odi_scorecard['wicket_by'].value_counts()"
   ]
  },
  {
   "cell_type": "code",
   "execution_count": 112,
   "metadata": {},
   "outputs": [
    {
     "name": "stdout",
     "output_type": "stream",
     "text": [
      "Toss Decisions in %\n",
      " bat      53.485647\n",
      "field    46.514353\n",
      "Name: toss-decision, dtype: float64\n"
     ]
    }
   ],
   "source": [
    "print('Toss Decisions in %\\n',((odi_info['toss-decision']).value_counts())/1707*100)"
   ]
  },
  {
   "cell_type": "code",
   "execution_count": 113,
   "metadata": {},
   "outputs": [
    {
     "data": {
      "text/html": [
       "        <script type=\"text/javascript\">\n",
       "        window.PlotlyConfig = {MathJaxConfig: 'local'};\n",
       "        if (window.MathJax) {MathJax.Hub.Config({SVG: {font: \"STIX-Web\"}});}\n",
       "        if (typeof require !== 'undefined') {\n",
       "        require.undef(\"plotly\");\n",
       "        requirejs.config({\n",
       "            paths: {\n",
       "                'plotly': ['https://cdn.plot.ly/plotly-latest.min']\n",
       "            }\n",
       "        });\n",
       "        require(['plotly'], function(Plotly) {\n",
       "            window._Plotly = Plotly;\n",
       "        });\n",
       "        }\n",
       "        </script>\n",
       "        "
      ]
     },
     "metadata": {},
     "output_type": "display_data"
    }
   ],
   "source": [
    "import matplotlib.pyplot as mlt\n",
    "import seaborn as sns\n",
    "mlt.style.use('fivethirtyeight')\n",
    "import plotly.offline as py\n",
    "py.init_notebook_mode(connected=True)\n",
    "import plotly.graph_objs as go\n",
    "import plotly.tools as tls"
   ]
  },
  {
   "cell_type": "code",
   "execution_count": 114,
   "metadata": {},
   "outputs": [
    {
     "data": {
      "text/plain": [
       "Index(['city', 'competition', 'date', 'match-id', 'gender', 'match-number',\n",
       "       'match-referee', 'method', 'neutralvenue', 'outcome', 'player-of-match',\n",
       "       'reserve-umpire', 'season', 'series', 'team-0', 'team-1',\n",
       "       'toss-decision', 'toss-winner', 'tv-umpire', 'umpire-0', 'umpire-1',\n",
       "       'venue', 'winner', 'winner-runs', 'winner-wickets', 'year'],\n",
       "      dtype='object')"
      ]
     },
     "execution_count": 114,
     "metadata": {},
     "output_type": "execute_result"
    }
   ],
   "source": [
    "odi_info.columns"
   ]
  },
  {
   "cell_type": "code",
   "execution_count": 115,
   "metadata": {},
   "outputs": [],
   "source": [
    "# teams=pd.DataFrame(data=None)\n",
    "# teams=pd.concat([odi_info['team_0'],odi_info['team_1']])\n",
    "# teams.columns=['team']\n",
    "# teams.set_index('team',drop=False)\n",
    "# # teams = team[\"team\"].duplicated(keep = False) \n",
    "# teams.head()\n",
    "# # bool series \n",
    "# bool_series \n",
    "  \n",
    "# # passing NOT of bool series to see unique values only \n",
    "# data = data[~bool_series] \n",
    "# team.columns=['team']\n"
   ]
  },
  {
   "cell_type": "code",
   "execution_count": 116,
   "metadata": {},
   "outputs": [
    {
     "data": {
      "image/png": "[encoded data removed]",
      "text/plain": [
       "<Figure size 1800x1080 with 2 Axes>"
      ]
     },
     "metadata": {},
     "output_type": "display_data"
    }
   ],
   "source": [
    "f,ax = plt.subplots(figsize=(25, 15))\n",
    "sns.heatmap(odi_scorecard.corr(), annot=True, linewidths=0.5,linecolor=\"red\", fmt= '.1f',ax=ax)\n",
    "plt.show()"
   ]
  },
  {
   "cell_type": "code",
   "execution_count": 117,
   "metadata": {
    "scrolled": true
   },
   "outputs": [
    {
     "data": {
      "image/png": "[encoded data removed]",
      "text/plain": [
       "<Figure size 5040x576 with 1 Axes>"
      ]
     },
     "metadata": {},
     "output_type": "display_data"
    }
   ],
   "source": [
    "# Toss Decisions across team\n",
    "mlt.subplots(figsize=(70,8))\n",
    "sns.countplot(x='toss-winner',hue='toss-decision',data=odi_info)\n",
    "mlt.show()"
   ]
  },
  {
   "cell_type": "code",
   "execution_count": 118,
   "metadata": {},
   "outputs": [
    {
     "data": {
      "image/png": "[encoded data removed]",
      "text/plain": [
       "<Figure size 2160x432 with 1 Axes>"
      ]
     },
     "metadata": {},
     "output_type": "display_data"
    }
   ],
   "source": [
    "# maximum toss winners\n",
    "mlt.subplots(figsize=(30,6))\n",
    "ax=odi_info['toss-winner'].value_counts().plot.bar(width=0.9,color=sns.color_palette('RdYlGn',20))\n",
    "for p in ax.patches:\n",
    "    ax.annotate(format(p.get_height()), (p.get_x()+0.15, p.get_height()+1))\n",
    "mlt.show()"
   ]
  },
  {
   "cell_type": "code",
   "execution_count": 119,
   "metadata": {},
   "outputs": [
    {
     "data": {
      "text/plain": [
       "(1707, 26)"
      ]
     },
     "execution_count": 119,
     "metadata": {},
     "output_type": "execute_result"
    }
   ],
   "source": [
    "odi_info.shape"
   ]
  },
  {
   "cell_type": "code",
   "execution_count": 120,
   "metadata": {},
   "outputs": [
    {
     "data": {
      "image/png": "[encoded data removed]",
      "text/plain": [
       "<Figure size 432x432 with 1 Axes>"
      ]
     },
     "metadata": {},
     "output_type": "display_data"
    }
   ],
   "source": [
    "# probability of Toss Winner Also the Match Winner\n",
    "df=odi_info[odi_info['toss-winner']==odi_info['winner']]\n",
    "slices=[len(df),(1707-len(df))]\n",
    "labels=['yes','no']\n",
    "mlt.pie(slices,labels=labels,startangle=90,shadow=True,explode=(0,0.05),autopct='%1.1f%%',colors=['r','g'])\n",
    "fig = mlt.gcf()\n",
    "fig.set_size_inches(6,6)\n",
    "mlt.show()"
   ]
  },
  {
   "cell_type": "code",
   "execution_count": 121,
   "metadata": {},
   "outputs": [
    {
     "data": {
      "image/png": "[encoded data removed]",
      "text/plain": [
       "<Figure size 1440x720 with 1 Axes>"
      ]
     },
     "metadata": {},
     "output_type": "display_data"
    }
   ],
   "source": [
    "# favourite top 10 grounds\n",
    "mlt.subplots(figsize=(20,10))\n",
    "ax = odi_info['venue'].value_counts().head(10).sort_values(ascending=True).plot.barh(width=.9,color=sns.color_palette('inferno',5))\n",
    "ax.set_xlabel('Grounds')\n",
    "ax.set_ylabel('count')\n",
    "mlt.show()"
   ]
  },
  {
   "cell_type": "code",
   "execution_count": 122,
   "metadata": {},
   "outputs": [],
   "source": [
    "# team_d=odi_info[\"team\"].value_counts().reset_index()\n",
    "# team_d.columns=['Team1','Total Matches']\n",
    "# team_d['wins']=odi_info['winner'].value_counts().reset_index()['winner']\n",
    "# team_d.set_index('Team1',inplace=True)"
   ]
  },
  {
   "cell_type": "code",
   "execution_count": 123,
   "metadata": {},
   "outputs": [
    {
     "data": {
      "text/plain": [
       "Index(['city', 'competition', 'date', 'match-id', 'gender', 'match-number',\n",
       "       'match-referee', 'method', 'neutralvenue', 'outcome', 'player-of-match',\n",
       "       'reserve-umpire', 'season', 'series', 'team-0', 'team-1',\n",
       "       'toss-decision', 'toss-winner', 'tv-umpire', 'umpire-0', 'umpire-1',\n",
       "       'venue', 'winner', 'winner-runs', 'winner-wickets', 'year'],\n",
       "      dtype='object')"
      ]
     },
     "execution_count": 123,
     "metadata": {},
     "output_type": "execute_result"
    }
   ],
   "source": [
    "odi_info.columns"
   ]
  },
  {
   "cell_type": "code",
   "execution_count": 124,
   "metadata": {},
   "outputs": [
    {
     "data": {
      "application/vnd.plotly.v1+json": {
       "config": {
        "plotlyServerURL": "https://plot.ly"
       },
       "data": [
        {
         "boxmean": "sd",
         "name": "Shere Bangla National Stadium",
         "type": "box",
         "y": [
          8,
          3,
          5,
          null,
          7,
          7,
          null,
          null,
          null,
          null,
          5,
          6,
          5,
          7,
          4,
          6,
          2,
          null,
          null,
          9,
          null,
          10,
          null,
          7,
          6,
          9,
          8,
          6,
          4,
          null,
          7,
          null,
          null,
          null,
          6,
          null,
          null,
          9,
          null,
          null,
          8,
          null,
          null,
          6,
          5,
          6,
          5,
          null,
          5,
          null,
          4,
          null,
          2,
          null,
          null,
          null,
          null,
          6,
          1,
          null,
          3,
          8,
          3,
          5,
          7,
          null,
          null,
          null,
          5,
          8,
          7,
          null,
          7,
          8,
          null,
          6,
          null,
          null,
          null,
          null,
          null,
          null,
          null,
          2,
          null
         ]
        },
        {
         "boxmean": "sd",
         "name": "Harare Sports Club",
         "type": "box",
         "y": [
          8,
          8,
          null,
          null,
          null,
          6,
          9,
          null,
          null,
          7,
          6,
          8,
          9,
          4,
          7,
          null,
          10,
          null,
          9,
          4,
          6,
          null,
          7,
          7,
          null,
          null,
          null,
          7,
          null,
          3,
          null,
          null,
          6,
          null,
          null,
          null,
          7,
          10,
          null,
          null,
          null,
          7,
          2,
          5,
          2,
          9,
          8,
          10,
          8,
          null,
          null,
          null,
          null,
          7,
          null
         ]
        },
        {
         "boxmean": "sd",
         "name": "R Premadasa Stadium",
         "type": "box",
         "y": [
          4,
          5,
          null,
          5,
          null,
          null,
          null,
          null,
          null,
          null,
          null,
          null,
          null,
          null,
          null,
          null,
          6,
          null,
          null,
          9,
          null,
          4,
          10,
          5,
          5,
          4,
          null,
          2,
          5,
          6,
          null,
          null,
          null,
          null,
          null,
          8,
          6,
          null,
          null,
          7,
          1,
          8,
          3,
          null,
          5,
          null
         ]
        },
        {
         "boxmean": "sd",
         "name": "County Ground",
         "type": "box",
         "y": [
          null,
          null,
          6,
          9,
          null,
          null,
          3,
          null,
          5,
          4,
          null,
          null,
          6,
          null,
          null,
          7,
          9,
          null,
          8,
          7,
          8,
          7,
          5,
          null,
          null,
          null,
          8,
          8,
          null,
          null,
          8,
          8,
          null,
          null,
          null,
          null,
          7,
          null,
          null
         ]
        },
        {
         "boxmean": "sd",
         "name": "Queens Sports Club",
         "type": "box",
         "y": [
          5,
          5,
          8,
          null,
          null,
          4,
          5,
          6,
          7,
          9,
          6,
          null,
          null,
          1,
          null,
          6,
          7,
          9,
          7,
          null,
          null,
          7,
          8,
          2,
          null,
          8,
          null,
          3,
          null,
          null,
          null,
          6
         ]
        },
        {
         "boxmean": "sd",
         "name": "Sheikh Zayed Stadium",
         "type": "box",
         "y": [
          6,
          null,
          4,
          null,
          null,
          8,
          7,
          null,
          null,
          null,
          8,
          1,
          3,
          null,
          null,
          7,
          null,
          null,
          8,
          2,
          null,
          null,
          null,
          null,
          6,
          null,
          7,
          null,
          null,
          null,
          7,
          null
         ]
        },
        {
         "boxmean": "sd",
         "name": "Kennington Oval",
         "type": "box",
         "y": [
          null,
          2,
          1,
          null,
          null,
          null,
          null,
          null,
          3,
          8,
          6,
          4,
          7,
          2,
          8,
          7,
          null,
          null,
          null,
          6,
          8,
          null,
          null,
          7,
          8,
          null,
          null,
          null,
          2,
          null,
          null
         ]
        },
        {
         "boxmean": "sd",
         "name": "Rangiri Dambulla International Stadium",
         "type": "box",
         "y": [
          null,
          null,
          8,
          3,
          6,
          null,
          6,
          6,
          null,
          6,
          null,
          3,
          null,
          7,
          null,
          null,
          6,
          3,
          null,
          8,
          null,
          4,
          4,
          null,
          null,
          7,
          6,
          2,
          6,
          4,
          null
         ]
        },
        {
         "boxmean": "sd",
         "name": "Sydney Cricket Ground",
         "type": "box",
         "y": [
          null,
          null,
          null,
          2,
          null,
          null,
          null,
          null,
          6,
          3,
          null,
          null,
          null,
          4,
          2,
          8,
          null,
          5,
          8,
          7,
          null,
          null,
          9,
          9,
          null,
          2,
          3,
          6,
          null,
          null
         ]
        },
        {
         "boxmean": "sd",
         "name": "Melbourne Cricket Ground",
         "type": "box",
         "y": [
          5,
          8,
          4,
          5,
          null,
          null,
          3,
          6,
          null,
          null,
          1,
          6,
          null,
          null,
          null,
          null,
          6,
          null,
          null,
          null,
          null,
          7,
          7,
          null,
          3,
          4,
          3,
          6,
          null
         ]
        },
        {
         "boxmean": "sd",
         "name": "Lord's",
         "type": "box",
         "y": [
          7,
          null,
          null,
          7,
          null,
          7,
          null,
          7,
          null,
          null,
          6,
          null,
          null,
          6,
          5,
          5,
          null,
          null,
          null,
          4,
          null,
          7,
          null,
          null,
          null,
          null
         ]
        },
        {
         "boxmean": "sd",
         "name": "SuperSport Park",
         "type": "box",
         "y": [
          6,
          9,
          null,
          6,
          7,
          7,
          null,
          5,
          null,
          null,
          2,
          9,
          6,
          null,
          null,
          null,
          6,
          8,
          4,
          null,
          7,
          null,
          6,
          null
         ]
        },
        {
         "boxmean": "sd",
         "name": "Adelaide Oval",
         "type": "box",
         "y": [
          5,
          null,
          null,
          9,
          null,
          7,
          null,
          2,
          8,
          6,
          8,
          null,
          null,
          4,
          null,
          8,
          null,
          8,
          null,
          null,
          null,
          7,
          6,
          null
         ]
        },
        {
         "boxmean": "sd",
         "name": "Western Australia Cricket Association Ground",
         "type": "box",
         "y": [
          6,
          5,
          null,
          null,
          null,
          null,
          2,
          null,
          2,
          null,
          4,
          null,
          9,
          null,
          null,
          9,
          null,
          4,
          null,
          3,
          3,
          null,
          5,
          7
         ]
        },
        {
         "boxmean": "sd",
         "name": "Kinrara Academy Oval",
         "type": "box",
         "y": [
          null,
          3,
          null,
          null,
          null,
          null,
          null,
          7,
          null,
          null,
          7,
          null,
          1,
          null,
          null,
          2,
          6,
          null,
          null,
          null,
          null,
          null,
          6
         ]
        }
       ],
       "layout": {
        "template": {
         "data": {
          "bar": [
           {
            "error_x": {
             "color": "#2a3f5f"
            },
            "error_y": {
             "color": "#2a3f5f"
            },
            "marker": {
             "line": {
              "color": "#E5ECF6",
              "width": 0.5
             }
            },
            "type": "bar"
           }
          ],
          "barpolar": [
           {
            "marker": {
             "line": {
              "color": "#E5ECF6",
              "width": 0.5
             }
            },
            "type": "barpolar"
           }
          ],
          "carpet": [
           {
            "aaxis": {
             "endlinecolor": "#2a3f5f",
             "gridcolor": "white",
             "linecolor": "white",
             "minorgridcolor": "white",
             "startlinecolor": "#2a3f5f"
            },
            "baxis": {
             "endlinecolor": "#2a3f5f",
             "gridcolor": "white",
             "linecolor": "white",
             "minorgridcolor": "white",
             "startlinecolor": "#2a3f5f"
            },
            "type": "carpet"
           }
          ],
          "choropleth": [
           {
            "colorbar": {
             "outlinewidth": 0,
             "ticks": ""
            },
            "type": "choropleth"
           }
          ],
          "contour": [
           {
            "colorbar": {
             "outlinewidth": 0,
             "ticks": ""
            },
            "colorscale": [
             [
              0,
              "#0d0887"
             ],
             [
              0.1111111111111111,
              "#46039f"
             ],
             [
              0.2222222222222222,
              "#7201a8"
             ],
             [
              0.3333333333333333,
              "#9c179e"
             ],
             [
              0.4444444444444444,
              "#bd3786"
             ],
             [
              0.5555555555555556,
              "#d8576b"
             ],
             [
              0.6666666666666666,
              "#ed7953"
             ],
             [
              0.7777777777777778,
              "#fb9f3a"
             ],
             [
              0.8888888888888888,
              "#fdca26"
             ],
             [
              1,
              "#f0f921"
             ]
            ],
            "type": "contour"
           }
          ],
          "contourcarpet": [
           {
            "colorbar": {
             "outlinewidth": 0,
             "ticks": ""
            },
            "type": "contourcarpet"
           }
          ],
          "heatmap": [
           {
            "colorbar": {
             "outlinewidth": 0,
             "ticks": ""
            },
            "colorscale": [
             [
              0,
              "#0d0887"
             ],
             [
              0.1111111111111111,
              "#46039f"
             ],
             [
              0.2222222222222222,
              "#7201a8"
             ],
             [
              0.3333333333333333,
              "#9c179e"
             ],
             [
              0.4444444444444444,
              "#bd3786"
             ],
             [
              0.5555555555555556,
              "#d8576b"
             ],
             [
              0.6666666666666666,
              "#ed7953"
             ],
             [
              0.7777777777777778,
              "#fb9f3a"
             ],
             [
              0.8888888888888888,
              "#fdca26"
             ],
             [
              1,
              "#f0f921"
             ]
            ],
            "type": "heatmap"
           }
          ],
          "heatmapgl": [
           {
            "colorbar": {
             "outlinewidth": 0,
             "ticks": ""
            },
            "colorscale": [
             [
              0,
              "#0d0887"
             ],
             [
              0.1111111111111111,
              "#46039f"
             ],
             [
              0.2222222222222222,
              "#7201a8"
             ],
             [
              0.3333333333333333,
              "#9c179e"
             ],
             [
              0.4444444444444444,
              "#bd3786"
             ],
             [
              0.5555555555555556,
              "#d8576b"
             ],
             [
              0.6666666666666666,
              "#ed7953"
             ],
             [
              0.7777777777777778,
              "#fb9f3a"
             ],
             [
              0.8888888888888888,
              "#fdca26"
             ],
             [
              1,
              "#f0f921"
             ]
            ],
            "type": "heatmapgl"
           }
          ],
          "histogram": [
           {
            "marker": {
             "colorbar": {
              "outlinewidth": 0,
              "ticks": ""
             }
            },
            "type": "histogram"
           }
          ],
          "histogram2d": [
           {
            "colorbar": {
             "outlinewidth": 0,
             "ticks": ""
            },
            "colorscale": [
             [
              0,
              "#0d0887"
             ],
             [
              0.1111111111111111,
              "#46039f"
             ],
             [
              0.2222222222222222,
              "#7201a8"
             ],
             [
              0.3333333333333333,
              "#9c179e"
             ],
             [
              0.4444444444444444,
              "#bd3786"
             ],
             [
              0.5555555555555556,
              "#d8576b"
             ],
             [
              0.6666666666666666,
              "#ed7953"
             ],
             [
              0.7777777777777778,
              "#fb9f3a"
             ],
             [
              0.8888888888888888,
              "#fdca26"
             ],
             [
              1,
              "#f0f921"
             ]
            ],
            "type": "histogram2d"
           }
          ],
          "histogram2dcontour": [
           {
            "colorbar": {
             "outlinewidth": 0,
             "ticks": ""
            },
            "colorscale": [
             [
              0,
              "#0d0887"
             ],
             [
              0.1111111111111111,
              "#46039f"
             ],
             [
              0.2222222222222222,
              "#7201a8"
             ],
             [
              0.3333333333333333,
              "#9c179e"
             ],
             [
              0.4444444444444444,
              "#bd3786"
             ],
             [
              0.5555555555555556,
              "#d8576b"
             ],
             [
              0.6666666666666666,
              "#ed7953"
             ],
             [
              0.7777777777777778,
              "#fb9f3a"
             ],
             [
              0.8888888888888888,
              "#fdca26"
             ],
             [
              1,
              "#f0f921"
             ]
            ],
            "type": "histogram2dcontour"
           }
          ],
          "mesh3d": [
           {
            "colorbar": {
             "outlinewidth": 0,
             "ticks": ""
            },
            "type": "mesh3d"
           }
          ],
          "parcoords": [
           {
            "line": {
             "colorbar": {
              "outlinewidth": 0,
              "ticks": ""
             }
            },
            "type": "parcoords"
           }
          ],
          "pie": [
           {
            "automargin": true,
            "type": "pie"
           }
          ],
          "scatter": [
           {
            "marker": {
             "colorbar": {
              "outlinewidth": 0,
              "ticks": ""
             }
            },
            "type": "scatter"
           }
          ],
          "scatter3d": [
           {
            "line": {
             "colorbar": {
              "outlinewidth": 0,
              "ticks": ""
             }
            },
            "marker": {
             "colorbar": {
              "outlinewidth": 0,
              "ticks": ""
             }
            },
            "type": "scatter3d"
           }
          ],
          "scattercarpet": [
           {
            "marker": {
             "colorbar": {
              "outlinewidth": 0,
              "ticks": ""
             }
            },
            "type": "scattercarpet"
           }
          ],
          "scattergeo": [
           {
            "marker": {
             "colorbar": {
              "outlinewidth": 0,
              "ticks": ""
             }
            },
            "type": "scattergeo"
           }
          ],
          "scattergl": [
           {
            "marker": {
             "colorbar": {
              "outlinewidth": 0,
              "ticks": ""
             }
            },
            "type": "scattergl"
           }
          ],
          "scattermapbox": [
           {
            "marker": {
             "colorbar": {
              "outlinewidth": 0,
              "ticks": ""
             }
            },
            "type": "scattermapbox"
           }
          ],
          "scatterpolar": [
           {
            "marker": {
             "colorbar": {
              "outlinewidth": 0,
              "ticks": ""
             }
            },
            "type": "scatterpolar"
           }
          ],
          "scatterpolargl": [
           {
            "marker": {
             "colorbar": {
              "outlinewidth": 0,
              "ticks": ""
             }
            },
            "type": "scatterpolargl"
           }
          ],
          "scatterternary": [
           {
            "marker": {
             "colorbar": {
              "outlinewidth": 0,
              "ticks": ""
             }
            },
            "type": "scatterternary"
           }
          ],
          "surface": [
           {
            "colorbar": {
             "outlinewidth": 0,
             "ticks": ""
            },
            "colorscale": [
             [
              0,
              "#0d0887"
             ],
             [
              0.1111111111111111,
              "#46039f"
             ],
             [
              0.2222222222222222,
              "#7201a8"
             ],
             [
              0.3333333333333333,
              "#9c179e"
             ],
             [
              0.4444444444444444,
              "#bd3786"
             ],
             [
              0.5555555555555556,
              "#d8576b"
             ],
             [
              0.6666666666666666,
              "#ed7953"
             ],
             [
              0.7777777777777778,
              "#fb9f3a"
             ],
             [
              0.8888888888888888,
              "#fdca26"
             ],
             [
              1,
              "#f0f921"
             ]
            ],
            "type": "surface"
           }
          ],
          "table": [
           {
            "cells": {
             "fill": {
              "color": "#EBF0F8"
             },
             "line": {
              "color": "white"
             }
            },
            "header": {
             "fill": {
              "color": "#C8D4E3"
             },
             "line": {
              "color": "white"
             }
            },
            "type": "table"
           }
          ]
         },
         "layout": {
          "annotationdefaults": {
           "arrowcolor": "#2a3f5f",
           "arrowhead": 0,
           "arrowwidth": 1
          },
          "coloraxis": {
           "colorbar": {
            "outlinewidth": 0,
            "ticks": ""
           }
          },
          "colorscale": {
           "diverging": [
            [
             0,
             "#8e0152"
            ],
            [
             0.1,
             "#c51b7d"
            ],
            [
             0.2,
             "#de77ae"
            ],
            [
             0.3,
             "#f1b6da"
            ],
            [
             0.4,
             "#fde0ef"
            ],
            [
             0.5,
             "#f7f7f7"
            ],
            [
             0.6,
             "#e6f5d0"
            ],
            [
             0.7,
             "#b8e186"
            ],
            [
             0.8,
             "#7fbc41"
            ],
            [
             0.9,
             "#4d9221"
            ],
            [
             1,
             "#276419"
            ]
           ],
           "sequential": [
            [
             0,
             "#0d0887"
            ],
            [
             0.1111111111111111,
             "#46039f"
            ],
            [
             0.2222222222222222,
             "#7201a8"
            ],
            [
             0.3333333333333333,
             "#9c179e"
            ],
            [
             0.4444444444444444,
             "#bd3786"
            ],
            [
             0.5555555555555556,
             "#d8576b"
            ],
            [
             0.6666666666666666,
             "#ed7953"
            ],
            [
             0.7777777777777778,
             "#fb9f3a"
            ],
            [
             0.8888888888888888,
             "#fdca26"
            ],
            [
             1,
             "#f0f921"
            ]
           ],
           "sequentialminus": [
            [
             0,
             "#0d0887"
            ],
            [
             0.1111111111111111,
             "#46039f"
            ],
            [
             0.2222222222222222,
             "#7201a8"
            ],
            [
             0.3333333333333333,
             "#9c179e"
            ],
            [
             0.4444444444444444,
             "#bd3786"
            ],
            [
             0.5555555555555556,
             "#d8576b"
            ],
            [
             0.6666666666666666,
             "#ed7953"
            ],
            [
             0.7777777777777778,
             "#fb9f3a"
            ],
            [
             0.8888888888888888,
             "#fdca26"
            ],
            [
             1,
             "#f0f921"
            ]
           ]
          },
          "colorway": [
           "#636efa",
           "#EF553B",
           "#00cc96",
           "#ab63fa",
           "#FFA15A",
           "#19d3f3",
           "#FF6692",
           "#B6E880",
           "#FF97FF",
           "#FECB52"
          ],
          "font": {
           "color": "#2a3f5f"
          },
          "geo": {
           "bgcolor": "white",
           "lakecolor": "white",
           "landcolor": "#E5ECF6",
           "showlakes": true,
           "showland": true,
           "subunitcolor": "white"
          },
          "hoverlabel": {
           "align": "left"
          },
          "hovermode": "closest",
          "mapbox": {
           "style": "light"
          },
          "paper_bgcolor": "white",
          "plot_bgcolor": "#E5ECF6",
          "polar": {
           "angularaxis": {
            "gridcolor": "white",
            "linecolor": "white",
            "ticks": ""
           },
           "bgcolor": "#E5ECF6",
           "radialaxis": {
            "gridcolor": "white",
            "linecolor": "white",
            "ticks": ""
           }
          },
          "scene": {
           "xaxis": {
            "backgroundcolor": "#E5ECF6",
            "gridcolor": "white",
            "gridwidth": 2,
            "linecolor": "white",
            "showbackground": true,
            "ticks": "",
            "zerolinecolor": "white"
           },
           "yaxis": {
            "backgroundcolor": "#E5ECF6",
            "gridcolor": "white",
            "gridwidth": 2,
            "linecolor": "white",
            "showbackground": true,
            "ticks": "",
            "zerolinecolor": "white"
           },
           "zaxis": {
            "backgroundcolor": "#E5ECF6",
            "gridcolor": "white",
            "gridwidth": 2,
            "linecolor": "white",
            "showbackground": true,
            "ticks": "",
            "zerolinecolor": "white"
           }
          },
          "shapedefaults": {
           "line": {
            "color": "#2a3f5f"
           }
          },
          "ternary": {
           "aaxis": {
            "gridcolor": "white",
            "linecolor": "white",
            "ticks": ""
           },
           "baxis": {
            "gridcolor": "white",
            "linecolor": "white",
            "ticks": ""
           },
           "bgcolor": "#E5ECF6",
           "caxis": {
            "gridcolor": "white",
            "linecolor": "white",
            "ticks": ""
           }
          },
          "title": {
           "x": 0.05
          },
          "xaxis": {
           "automargin": true,
           "gridcolor": "white",
           "linecolor": "white",
           "ticks": "",
           "title": {
            "standoff": 15
           },
           "zerolinecolor": "white",
           "zerolinewidth": 2
          },
          "yaxis": {
           "automargin": true,
           "gridcolor": "white",
           "linecolor": "white",
           "ticks": "",
           "title": {
            "standoff": 15
           },
           "zerolinecolor": "white",
           "zerolinewidth": 2
          }
         }
        },
        "title": {
         "text": "Venue wise Wickets Fallen"
        },
        "xaxis": {
         "title": {
          "text": "Venue Name"
         }
        },
        "yaxis": {
         "title": {
          "text": "Wickets Fallen"
         }
        }
       }
      },
      "text/html": [
       "<div>\n",
       "        \n",
       "        \n",
       "            <div id=\"43b47261-d106-42a0-84a0-17d476f91005\" class=\"plotly-graph-div\" style=\"height:525px; width:100%;\"></div>\n",
       "            <script type=\"text/javascript\">\n",
       "                require([\"plotly\"], function(Plotly) {\n",
       "                    window.PLOTLYENV=window.PLOTLYENV || {};\n",
       "                    \n",
       "                if (document.getElementById(\"43b47261-d106-42a0-84a0-17d476f91005\")) {\n",
       "                    Plotly.newPlot(\n",
       "                        '43b47261-d106-42a0-84a0-17d476f91005',\n",
       "                        [{\"boxmean\": \"sd\", \"name\": \"Shere Bangla National Stadium\", \"type\": \"box\", \"y\": [8.0, 3.0, 5.0, null, 7.0, 7.0, null, null, null, null, 5.0, 6.0, 5.0, 7.0, 4.0, 6.0, 2.0, null, null, 9.0, null, 10.0, null, 7.0, 6.0, 9.0, 8.0, 6.0, 4.0, null, 7.0, null, null, null, 6.0, null, null, 9.0, null, null, 8.0, null, null, 6.0, 5.0, 6.0, 5.0, null, 5.0, null, 4.0, null, 2.0, null, null, null, null, 6.0, 1.0, null, 3.0, 8.0, 3.0, 5.0, 7.0, null, null, null, 5.0, 8.0, 7.0, null, 7.0, 8.0, null, 6.0, null, null, null, null, null, null, null, 2.0, null]}, {\"boxmean\": \"sd\", \"name\": \"Harare Sports Club\", \"type\": \"box\", \"y\": [8.0, 8.0, null, null, null, 6.0, 9.0, null, null, 7.0, 6.0, 8.0, 9.0, 4.0, 7.0, null, 10.0, null, 9.0, 4.0, 6.0, null, 7.0, 7.0, null, null, null, 7.0, null, 3.0, null, null, 6.0, null, null, null, 7.0, 10.0, null, null, null, 7.0, 2.0, 5.0, 2.0, 9.0, 8.0, 10.0, 8.0, null, null, null, null, 7.0, null]}, {\"boxmean\": \"sd\", \"name\": \"R Premadasa Stadium\", \"type\": \"box\", \"y\": [4.0, 5.0, null, 5.0, null, null, null, null, null, null, null, null, null, null, null, null, 6.0, null, null, 9.0, null, 4.0, 10.0, 5.0, 5.0, 4.0, null, 2.0, 5.0, 6.0, null, null, null, null, null, 8.0, 6.0, null, null, 7.0, 1.0, 8.0, 3.0, null, 5.0, null]}, {\"boxmean\": \"sd\", \"name\": \"County Ground\", \"type\": \"box\", \"y\": [null, null, 6.0, 9.0, null, null, 3.0, null, 5.0, 4.0, null, null, 6.0, null, null, 7.0, 9.0, null, 8.0, 7.0, 8.0, 7.0, 5.0, null, null, null, 8.0, 8.0, null, null, 8.0, 8.0, null, null, null, null, 7.0, null, null]}, {\"boxmean\": \"sd\", \"name\": \"Queens Sports Club\", \"type\": \"box\", \"y\": [5.0, 5.0, 8.0, null, null, 4.0, 5.0, 6.0, 7.0, 9.0, 6.0, null, null, 1.0, null, 6.0, 7.0, 9.0, 7.0, null, null, 7.0, 8.0, 2.0, null, 8.0, null, 3.0, null, null, null, 6.0]}, {\"boxmean\": \"sd\", \"name\": \"Sheikh Zayed Stadium\", \"type\": \"box\", \"y\": [6.0, null, 4.0, null, null, 8.0, 7.0, null, null, null, 8.0, 1.0, 3.0, null, null, 7.0, null, null, 8.0, 2.0, null, null, null, null, 6.0, null, 7.0, null, null, null, 7.0, null]}, {\"boxmean\": \"sd\", \"name\": \"Kennington Oval\", \"type\": \"box\", \"y\": [null, 2.0, 1.0, null, null, null, null, null, 3.0, 8.0, 6.0, 4.0, 7.0, 2.0, 8.0, 7.0, null, null, null, 6.0, 8.0, null, null, 7.0, 8.0, null, null, null, 2.0, null, null]}, {\"boxmean\": \"sd\", \"name\": \"Rangiri Dambulla International Stadium\", \"type\": \"box\", \"y\": [null, null, 8.0, 3.0, 6.0, null, 6.0, 6.0, null, 6.0, null, 3.0, null, 7.0, null, null, 6.0, 3.0, null, 8.0, null, 4.0, 4.0, null, null, 7.0, 6.0, 2.0, 6.0, 4.0, null]}, {\"boxmean\": \"sd\", \"name\": \"Sydney Cricket Ground\", \"type\": \"box\", \"y\": [null, null, null, 2.0, null, null, null, null, 6.0, 3.0, null, null, null, 4.0, 2.0, 8.0, null, 5.0, 8.0, 7.0, null, null, 9.0, 9.0, null, 2.0, 3.0, 6.0, null, null]}, {\"boxmean\": \"sd\", \"name\": \"Melbourne Cricket Ground\", \"type\": \"box\", \"y\": [5.0, 8.0, 4.0, 5.0, null, null, 3.0, 6.0, null, null, 1.0, 6.0, null, null, null, null, 6.0, null, null, null, null, 7.0, 7.0, null, 3.0, 4.0, 3.0, 6.0, null]}, {\"boxmean\": \"sd\", \"name\": \"Lord's\", \"type\": \"box\", \"y\": [7.0, null, null, 7.0, null, 7.0, null, 7.0, null, null, 6.0, null, null, 6.0, 5.0, 5.0, null, null, null, 4.0, null, 7.0, null, null, null, null]}, {\"boxmean\": \"sd\", \"name\": \"SuperSport Park\", \"type\": \"box\", \"y\": [6.0, 9.0, null, 6.0, 7.0, 7.0, null, 5.0, null, null, 2.0, 9.0, 6.0, null, null, null, 6.0, 8.0, 4.0, null, 7.0, null, 6.0, null]}, {\"boxmean\": \"sd\", \"name\": \"Adelaide Oval\", \"type\": \"box\", \"y\": [5.0, null, null, 9.0, null, 7.0, null, 2.0, 8.0, 6.0, 8.0, null, null, 4.0, null, 8.0, null, 8.0, null, null, null, 7.0, 6.0, null]}, {\"boxmean\": \"sd\", \"name\": \"Western Australia Cricket Association Ground\", \"type\": \"box\", \"y\": [6.0, 5.0, null, null, null, null, 2.0, null, 2.0, null, 4.0, null, 9.0, null, null, 9.0, null, 4.0, null, 3.0, 3.0, null, 5.0, 7.0]}, {\"boxmean\": \"sd\", \"name\": \"Kinrara Academy Oval\", \"type\": \"box\", \"y\": [null, 3.0, null, null, null, null, null, 7.0, null, null, 7.0, null, 1.0, null, null, 2.0, 6.0, null, null, null, null, null, 6.0]}],\n",
       "                        {\"template\": {\"data\": {\"bar\": [{\"error_x\": {\"color\": \"#2a3f5f\"}, \"error_y\": {\"color\": \"#2a3f5f\"}, \"marker\": {\"line\": {\"color\": \"#E5ECF6\", \"width\": 0.5}}, \"type\": \"bar\"}], \"barpolar\": [{\"marker\": {\"line\": {\"color\": \"#E5ECF6\", \"width\": 0.5}}, \"type\": \"barpolar\"}], \"carpet\": [{\"aaxis\": {\"endlinecolor\": \"#2a3f5f\", \"gridcolor\": \"white\", \"linecolor\": \"white\", \"minorgridcolor\": \"white\", \"startlinecolor\": \"#2a3f5f\"}, \"baxis\": {\"endlinecolor\": \"#2a3f5f\", \"gridcolor\": \"white\", \"linecolor\": \"white\", \"minorgridcolor\": \"white\", \"startlinecolor\": \"#2a3f5f\"}, \"type\": \"carpet\"}], \"choropleth\": [{\"colorbar\": {\"outlinewidth\": 0, \"ticks\": \"\"}, \"type\": \"choropleth\"}], \"contour\": [{\"colorbar\": {\"outlinewidth\": 0, \"ticks\": \"\"}, \"colorscale\": [[0.0, \"#0d0887\"], [0.1111111111111111, \"#46039f\"], [0.2222222222222222, \"#7201a8\"], [0.3333333333333333, \"#9c179e\"], [0.4444444444444444, \"#bd3786\"], [0.5555555555555556, \"#d8576b\"], [0.6666666666666666, \"#ed7953\"], [0.7777777777777778, \"#fb9f3a\"], [0.8888888888888888, \"#fdca26\"], [1.0, \"#f0f921\"]], \"type\": \"contour\"}], \"contourcarpet\": [{\"colorbar\": {\"outlinewidth\": 0, \"ticks\": \"\"}, \"type\": \"contourcarpet\"}], \"heatmap\": [{\"colorbar\": {\"outlinewidth\": 0, \"ticks\": \"\"}, \"colorscale\": [[0.0, \"#0d0887\"], [0.1111111111111111, \"#46039f\"], [0.2222222222222222, \"#7201a8\"], [0.3333333333333333, \"#9c179e\"], [0.4444444444444444, \"#bd3786\"], [0.5555555555555556, \"#d8576b\"], [0.6666666666666666, \"#ed7953\"], [0.7777777777777778, \"#fb9f3a\"], [0.8888888888888888, \"#fdca26\"], [1.0, \"#f0f921\"]], \"type\": \"heatmap\"}], \"heatmapgl\": [{\"colorbar\": {\"outlinewidth\": 0, \"ticks\": \"\"}, \"colorscale\": [[0.0, \"#0d0887\"], [0.1111111111111111, \"#46039f\"], [0.2222222222222222, \"#7201a8\"], [0.3333333333333333, \"#9c179e\"], [0.4444444444444444, \"#bd3786\"], [0.5555555555555556, \"#d8576b\"], [0.6666666666666666, \"#ed7953\"], [0.7777777777777778, \"#fb9f3a\"], [0.8888888888888888, \"#fdca26\"], [1.0, \"#f0f921\"]], \"type\": \"heatmapgl\"}], \"histogram\": [{\"marker\": {\"colorbar\": {\"outlinewidth\": 0, \"ticks\": \"\"}}, \"type\": \"histogram\"}], \"histogram2d\": [{\"colorbar\": {\"outlinewidth\": 0, \"ticks\": \"\"}, \"colorscale\": [[0.0, \"#0d0887\"], [0.1111111111111111, \"#46039f\"], [0.2222222222222222, \"#7201a8\"], [0.3333333333333333, \"#9c179e\"], [0.4444444444444444, \"#bd3786\"], [0.5555555555555556, \"#d8576b\"], [0.6666666666666666, \"#ed7953\"], [0.7777777777777778, \"#fb9f3a\"], [0.8888888888888888, \"#fdca26\"], [1.0, \"#f0f921\"]], \"type\": \"histogram2d\"}], \"histogram2dcontour\": [{\"colorbar\": {\"outlinewidth\": 0, \"ticks\": \"\"}, \"colorscale\": [[0.0, \"#0d0887\"], [0.1111111111111111, \"#46039f\"], [0.2222222222222222, \"#7201a8\"], [0.3333333333333333, \"#9c179e\"], [0.4444444444444444, \"#bd3786\"], [0.5555555555555556, \"#d8576b\"], [0.6666666666666666, \"#ed7953\"], [0.7777777777777778, \"#fb9f3a\"], [0.8888888888888888, \"#fdca26\"], [1.0, \"#f0f921\"]], \"type\": \"histogram2dcontour\"}], \"mesh3d\": [{\"colorbar\": {\"outlinewidth\": 0, \"ticks\": \"\"}, \"type\": \"mesh3d\"}], \"parcoords\": [{\"line\": {\"colorbar\": {\"outlinewidth\": 0, \"ticks\": \"\"}}, \"type\": \"parcoords\"}], \"pie\": [{\"automargin\": true, \"type\": \"pie\"}], \"scatter\": [{\"marker\": {\"colorbar\": {\"outlinewidth\": 0, \"ticks\": \"\"}}, \"type\": \"scatter\"}], \"scatter3d\": [{\"line\": {\"colorbar\": {\"outlinewidth\": 0, \"ticks\": \"\"}}, \"marker\": {\"colorbar\": {\"outlinewidth\": 0, \"ticks\": \"\"}}, \"type\": \"scatter3d\"}], \"scattercarpet\": [{\"marker\": {\"colorbar\": {\"outlinewidth\": 0, \"ticks\": \"\"}}, \"type\": \"scattercarpet\"}], \"scattergeo\": [{\"marker\": {\"colorbar\": {\"outlinewidth\": 0, \"ticks\": \"\"}}, \"type\": \"scattergeo\"}], \"scattergl\": [{\"marker\": {\"colorbar\": {\"outlinewidth\": 0, \"ticks\": \"\"}}, \"type\": \"scattergl\"}], \"scattermapbox\": [{\"marker\": {\"colorbar\": {\"outlinewidth\": 0, \"ticks\": \"\"}}, \"type\": \"scattermapbox\"}], \"scatterpolar\": [{\"marker\": {\"colorbar\": {\"outlinewidth\": 0, \"ticks\": \"\"}}, \"type\": \"scatterpolar\"}], \"scatterpolargl\": [{\"marker\": {\"colorbar\": {\"outlinewidth\": 0, \"ticks\": \"\"}}, \"type\": \"scatterpolargl\"}], \"scatterternary\": [{\"marker\": {\"colorbar\": {\"outlinewidth\": 0, \"ticks\": \"\"}}, \"type\": \"scatterternary\"}], \"surface\": [{\"colorbar\": {\"outlinewidth\": 0, \"ticks\": \"\"}, \"colorscale\": [[0.0, \"#0d0887\"], [0.1111111111111111, \"#46039f\"], [0.2222222222222222, \"#7201a8\"], [0.3333333333333333, \"#9c179e\"], [0.4444444444444444, \"#bd3786\"], [0.5555555555555556, \"#d8576b\"], [0.6666666666666666, \"#ed7953\"], [0.7777777777777778, \"#fb9f3a\"], [0.8888888888888888, \"#fdca26\"], [1.0, \"#f0f921\"]], \"type\": \"surface\"}], \"table\": [{\"cells\": {\"fill\": {\"color\": \"#EBF0F8\"}, \"line\": {\"color\": \"white\"}}, \"header\": {\"fill\": {\"color\": \"#C8D4E3\"}, \"line\": {\"color\": \"white\"}}, \"type\": \"table\"}]}, \"layout\": {\"annotationdefaults\": {\"arrowcolor\": \"#2a3f5f\", \"arrowhead\": 0, \"arrowwidth\": 1}, \"coloraxis\": {\"colorbar\": {\"outlinewidth\": 0, \"ticks\": \"\"}}, \"colorscale\": {\"diverging\": [[0, \"#8e0152\"], [0.1, \"#c51b7d\"], [0.2, \"#de77ae\"], [0.3, \"#f1b6da\"], [0.4, \"#fde0ef\"], [0.5, \"#f7f7f7\"], [0.6, \"#e6f5d0\"], [0.7, \"#b8e186\"], [0.8, \"#7fbc41\"], [0.9, \"#4d9221\"], [1, \"#276419\"]], \"sequential\": [[0.0, \"#0d0887\"], [0.1111111111111111, \"#46039f\"], [0.2222222222222222, \"#7201a8\"], [0.3333333333333333, \"#9c179e\"], [0.4444444444444444, \"#bd3786\"], [0.5555555555555556, \"#d8576b\"], [0.6666666666666666, \"#ed7953\"], [0.7777777777777778, \"#fb9f3a\"], [0.8888888888888888, \"#fdca26\"], [1.0, \"#f0f921\"]], \"sequentialminus\": [[0.0, \"#0d0887\"], [0.1111111111111111, \"#46039f\"], [0.2222222222222222, \"#7201a8\"], [0.3333333333333333, \"#9c179e\"], [0.4444444444444444, \"#bd3786\"], [0.5555555555555556, \"#d8576b\"], [0.6666666666666666, \"#ed7953\"], [0.7777777777777778, \"#fb9f3a\"], [0.8888888888888888, \"#fdca26\"], [1.0, \"#f0f921\"]]}, \"colorway\": [\"#636efa\", \"#EF553B\", \"#00cc96\", \"#ab63fa\", \"#FFA15A\", \"#19d3f3\", \"#FF6692\", \"#B6E880\", \"#FF97FF\", \"#FECB52\"], \"font\": {\"color\": \"#2a3f5f\"}, \"geo\": {\"bgcolor\": \"white\", \"lakecolor\": \"white\", \"landcolor\": \"#E5ECF6\", \"showlakes\": true, \"showland\": true, \"subunitcolor\": \"white\"}, \"hoverlabel\": {\"align\": \"left\"}, \"hovermode\": \"closest\", \"mapbox\": {\"style\": \"light\"}, \"paper_bgcolor\": \"white\", \"plot_bgcolor\": \"#E5ECF6\", \"polar\": {\"angularaxis\": {\"gridcolor\": \"white\", \"linecolor\": \"white\", \"ticks\": \"\"}, \"bgcolor\": \"#E5ECF6\", \"radialaxis\": {\"gridcolor\": \"white\", \"linecolor\": \"white\", \"ticks\": \"\"}}, \"scene\": {\"xaxis\": {\"backgroundcolor\": \"#E5ECF6\", \"gridcolor\": \"white\", \"gridwidth\": 2, \"linecolor\": \"white\", \"showbackground\": true, \"ticks\": \"\", \"zerolinecolor\": \"white\"}, \"yaxis\": {\"backgroundcolor\": \"#E5ECF6\", \"gridcolor\": \"white\", \"gridwidth\": 2, \"linecolor\": \"white\", \"showbackground\": true, \"ticks\": \"\", \"zerolinecolor\": \"white\"}, \"zaxis\": {\"backgroundcolor\": \"#E5ECF6\", \"gridcolor\": \"white\", \"gridwidth\": 2, \"linecolor\": \"white\", \"showbackground\": true, \"ticks\": \"\", \"zerolinecolor\": \"white\"}}, \"shapedefaults\": {\"line\": {\"color\": \"#2a3f5f\"}}, \"ternary\": {\"aaxis\": {\"gridcolor\": \"white\", \"linecolor\": \"white\", \"ticks\": \"\"}, \"baxis\": {\"gridcolor\": \"white\", \"linecolor\": \"white\", \"ticks\": \"\"}, \"bgcolor\": \"#E5ECF6\", \"caxis\": {\"gridcolor\": \"white\", \"linecolor\": \"white\", \"ticks\": \"\"}}, \"title\": {\"x\": 0.05}, \"xaxis\": {\"automargin\": true, \"gridcolor\": \"white\", \"linecolor\": \"white\", \"ticks\": \"\", \"title\": {\"standoff\": 15}, \"zerolinecolor\": \"white\", \"zerolinewidth\": 2}, \"yaxis\": {\"automargin\": true, \"gridcolor\": \"white\", \"linecolor\": \"white\", \"ticks\": \"\", \"title\": {\"standoff\": 15}, \"zerolinecolor\": \"white\", \"zerolinewidth\": 2}}}, \"title\": {\"text\": \"Venue wise Wickets Fallen\"}, \"xaxis\": {\"title\": {\"text\": \"Venue Name\"}}, \"yaxis\": {\"title\": {\"text\": \"Wickets Fallen\"}}},\n",
       "                        {\"responsive\": true}\n",
       "                    ).then(function(){\n",
       "                            \n",
       "var gd = document.getElementById('43b47261-d106-42a0-84a0-17d476f91005');\n",
       "var x = new MutationObserver(function (mutations, observer) {{\n",
       "        var display = window.getComputedStyle(gd).display;\n",
       "        if (!display || display === 'none') {{\n",
       "            console.log([gd, 'removed!']);\n",
       "            Plotly.purge(gd);\n",
       "            observer.disconnect();\n",
       "        }}\n",
       "}});\n",
       "\n",
       "// Listen for the removal of the full notebook cells\n",
       "var notebookContainer = gd.closest('#notebook-container');\n",
       "if (notebookContainer) {{\n",
       "    x.observe(notebookContainer, {childList: true});\n",
       "}}\n",
       "\n",
       "// Listen for the clearing of the current output cell\n",
       "var outputEl = gd.closest('.output');\n",
       "if (outputEl) {{\n",
       "    x.observe(outputEl, {childList: true});\n",
       "}}\n",
       "\n",
       "                        })\n",
       "                };\n",
       "                });\n",
       "            </script>\n",
       "        </div>"
      ]
     },
     "metadata": {},
     "output_type": "display_data"
    }
   ],
   "source": [
    "# Venue wise Wickets Fallen\n",
    "import plotly.figure_factory as ff\n",
    "venues=odi_info['venue'].value_counts()\n",
    "venue_scores={venue:[] for venue in venues.index[:15]}\n",
    "for index,row in odi_info.iterrows():\n",
    "    if venue_scores.get(row['venue'],-1)!=-1:\n",
    "        venue_scores[row['venue']].append(row['winner-wickets'])\n",
    "fig=go.Figure()\n",
    "for index, value in venue_scores.items():\n",
    "    fig.add_trace(go.Box(y=value,name=index,boxmean='sd'))\n",
    "fig.update_layout(title='Venue wise Wickets Fallen',xaxis_title='Venue Name',yaxis_title='Wickets Fallen')\n",
    "fig.show()"
   ]
  },
  {
   "cell_type": "code",
   "execution_count": 125,
   "metadata": {},
   "outputs": [
    {
     "data": {
      "text/plain": [
       "Index(['match_id', 'team_name', 'innings', 'over_ball', 'name', 'ball_score',\n",
       "       'wicket', 'wicket_by', 'batsman_out', 'extras', 'ball_of_over'],\n",
       "      dtype='object')"
      ]
     },
     "execution_count": 125,
     "metadata": {},
     "output_type": "execute_result"
    }
   ],
   "source": [
    "odi_scorecard.columns"
   ]
  },
  {
   "cell_type": "code",
   "execution_count": 126,
   "metadata": {},
   "outputs": [],
   "source": [
    "odi_with_season = odi_info[['match-id','year']].merge(odi_scorecard, left_on = 'match-id', right_on = 'match_id', how = 'left').drop('match-id', axis = 1)"
   ]
  },
  {
   "cell_type": "code",
   "execution_count": 127,
   "metadata": {
    "scrolled": true
   },
   "outputs": [
    {
     "data": {
      "text/html": [
       "<div>\n",
       "<style scoped>\n",
       "    .dataframe tbody tr th:only-of-type {\n",
       "        vertical-align: middle;\n",
       "    }\n",
       "\n",
       "    .dataframe tbody tr th {\n",
       "        vertical-align: top;\n",
       "    }\n",
       "\n",
       "    .dataframe thead th {\n",
       "        text-align: right;\n",
       "    }\n",
       "</style>\n",
       "<table border=\"1\" class=\"dataframe\">\n",
       "  <thead>\n",
       "    <tr style=\"text-align: right;\">\n",
       "      <th></th>\n",
       "      <th>year</th>\n",
       "      <th>match_id</th>\n",
       "      <th>team_name</th>\n",
       "      <th>innings</th>\n",
       "      <th>over_ball</th>\n",
       "      <th>name</th>\n",
       "      <th>ball_score</th>\n",
       "      <th>wicket</th>\n",
       "      <th>wicket_by</th>\n",
       "      <th>batsman_out</th>\n",
       "      <th>extras</th>\n",
       "      <th>ball_of_over</th>\n",
       "    </tr>\n",
       "  </thead>\n",
       "  <tbody>\n",
       "    <tr>\n",
       "      <th>0</th>\n",
       "      <td>2006</td>\n",
       "      <td>225171</td>\n",
       "      <td>England</td>\n",
       "      <td>1</td>\n",
       "      <td>1.1</td>\n",
       "      <td>ME Trescothick</td>\n",
       "      <td>0</td>\n",
       "      <td>NaN</td>\n",
       "      <td>0</td>\n",
       "      <td>NaN</td>\n",
       "      <td>0</td>\n",
       "      <td>1</td>\n",
       "    </tr>\n",
       "    <tr>\n",
       "      <th>1</th>\n",
       "      <td>2006</td>\n",
       "      <td>225171</td>\n",
       "      <td>England</td>\n",
       "      <td>1</td>\n",
       "      <td>1.2</td>\n",
       "      <td>ME Trescothick</td>\n",
       "      <td>0</td>\n",
       "      <td>NaN</td>\n",
       "      <td>0</td>\n",
       "      <td>NaN</td>\n",
       "      <td>0</td>\n",
       "      <td>2</td>\n",
       "    </tr>\n",
       "    <tr>\n",
       "      <th>2</th>\n",
       "      <td>2006</td>\n",
       "      <td>225171</td>\n",
       "      <td>England</td>\n",
       "      <td>1</td>\n",
       "      <td>1.3</td>\n",
       "      <td>ME Trescothick</td>\n",
       "      <td>0</td>\n",
       "      <td>NaN</td>\n",
       "      <td>0</td>\n",
       "      <td>NaN</td>\n",
       "      <td>4</td>\n",
       "      <td>3</td>\n",
       "    </tr>\n",
       "    <tr>\n",
       "      <th>3</th>\n",
       "      <td>2006</td>\n",
       "      <td>225171</td>\n",
       "      <td>England</td>\n",
       "      <td>1</td>\n",
       "      <td>1.4</td>\n",
       "      <td>ME Trescothick</td>\n",
       "      <td>0</td>\n",
       "      <td>NaN</td>\n",
       "      <td>0</td>\n",
       "      <td>NaN</td>\n",
       "      <td>2</td>\n",
       "      <td>4</td>\n",
       "    </tr>\n",
       "    <tr>\n",
       "      <th>4</th>\n",
       "      <td>2006</td>\n",
       "      <td>225171</td>\n",
       "      <td>England</td>\n",
       "      <td>1</td>\n",
       "      <td>1.5</td>\n",
       "      <td>ME Trescothick</td>\n",
       "      <td>0</td>\n",
       "      <td>NaN</td>\n",
       "      <td>0</td>\n",
       "      <td>NaN</td>\n",
       "      <td>0</td>\n",
       "      <td>5</td>\n",
       "    </tr>\n",
       "    <tr>\n",
       "      <th>5</th>\n",
       "      <td>2006</td>\n",
       "      <td>225171</td>\n",
       "      <td>England</td>\n",
       "      <td>1</td>\n",
       "      <td>1.6</td>\n",
       "      <td>ME Trescothick</td>\n",
       "      <td>0</td>\n",
       "      <td>NaN</td>\n",
       "      <td>0</td>\n",
       "      <td>NaN</td>\n",
       "      <td>0</td>\n",
       "      <td>6</td>\n",
       "    </tr>\n",
       "    <tr>\n",
       "      <th>6</th>\n",
       "      <td>2006</td>\n",
       "      <td>225171</td>\n",
       "      <td>Ireland</td>\n",
       "      <td>2</td>\n",
       "      <td>2.1</td>\n",
       "      <td>DI Joyce</td>\n",
       "      <td>0</td>\n",
       "      <td>NaN</td>\n",
       "      <td>0</td>\n",
       "      <td>NaN</td>\n",
       "      <td>0</td>\n",
       "      <td>1</td>\n",
       "    </tr>\n",
       "    <tr>\n",
       "      <th>7</th>\n",
       "      <td>2006</td>\n",
       "      <td>225171</td>\n",
       "      <td>Ireland</td>\n",
       "      <td>2</td>\n",
       "      <td>2.2</td>\n",
       "      <td>DI Joyce</td>\n",
       "      <td>0</td>\n",
       "      <td>NaN</td>\n",
       "      <td>0</td>\n",
       "      <td>NaN</td>\n",
       "      <td>0</td>\n",
       "      <td>2</td>\n",
       "    </tr>\n",
       "    <tr>\n",
       "      <th>8</th>\n",
       "      <td>2006</td>\n",
       "      <td>225171</td>\n",
       "      <td>Ireland</td>\n",
       "      <td>2</td>\n",
       "      <td>2.3</td>\n",
       "      <td>DI Joyce</td>\n",
       "      <td>0</td>\n",
       "      <td>NaN</td>\n",
       "      <td>0</td>\n",
       "      <td>NaN</td>\n",
       "      <td>5</td>\n",
       "      <td>3</td>\n",
       "    </tr>\n",
       "    <tr>\n",
       "      <th>9</th>\n",
       "      <td>2006</td>\n",
       "      <td>225171</td>\n",
       "      <td>Ireland</td>\n",
       "      <td>2</td>\n",
       "      <td>2.4</td>\n",
       "      <td>DI Joyce</td>\n",
       "      <td>0</td>\n",
       "      <td>NaN</td>\n",
       "      <td>0</td>\n",
       "      <td>NaN</td>\n",
       "      <td>5</td>\n",
       "      <td>4</td>\n",
       "    </tr>\n",
       "    <tr>\n",
       "      <th>10</th>\n",
       "      <td>2006</td>\n",
       "      <td>225171</td>\n",
       "      <td>Ireland</td>\n",
       "      <td>2</td>\n",
       "      <td>2.5</td>\n",
       "      <td>DI Joyce</td>\n",
       "      <td>0</td>\n",
       "      <td>bowled</td>\n",
       "      <td>SJ Harmison</td>\n",
       "      <td>DI Joyce</td>\n",
       "      <td>0</td>\n",
       "      <td>5</td>\n",
       "    </tr>\n",
       "    <tr>\n",
       "      <th>11</th>\n",
       "      <td>2006</td>\n",
       "      <td>225171</td>\n",
       "      <td>Ireland</td>\n",
       "      <td>2</td>\n",
       "      <td>2.6</td>\n",
       "      <td>AC Botha</td>\n",
       "      <td>0</td>\n",
       "      <td>NaN</td>\n",
       "      <td>0</td>\n",
       "      <td>NaN</td>\n",
       "      <td>0</td>\n",
       "      <td>6</td>\n",
       "    </tr>\n",
       "    <tr>\n",
       "      <th>12</th>\n",
       "      <td>2006</td>\n",
       "      <td>225171</td>\n",
       "      <td>Ireland</td>\n",
       "      <td>2</td>\n",
       "      <td>2.7</td>\n",
       "      <td>AC Botha</td>\n",
       "      <td>0</td>\n",
       "      <td>NaN</td>\n",
       "      <td>0</td>\n",
       "      <td>NaN</td>\n",
       "      <td>0</td>\n",
       "      <td>7</td>\n",
       "    </tr>\n",
       "    <tr>\n",
       "      <th>13</th>\n",
       "      <td>2006</td>\n",
       "      <td>225171</td>\n",
       "      <td>Ireland</td>\n",
       "      <td>2</td>\n",
       "      <td>2.8</td>\n",
       "      <td>AC Botha</td>\n",
       "      <td>0</td>\n",
       "      <td>NaN</td>\n",
       "      <td>0</td>\n",
       "      <td>NaN</td>\n",
       "      <td>0</td>\n",
       "      <td>8</td>\n",
       "    </tr>\n",
       "    <tr>\n",
       "      <th>14</th>\n",
       "      <td>2006</td>\n",
       "      <td>225246</td>\n",
       "      <td>England</td>\n",
       "      <td>1</td>\n",
       "      <td>1.1</td>\n",
       "      <td>ME Trescothick</td>\n",
       "      <td>0</td>\n",
       "      <td>NaN</td>\n",
       "      <td>0</td>\n",
       "      <td>NaN</td>\n",
       "      <td>0</td>\n",
       "      <td>1</td>\n",
       "    </tr>\n",
       "    <tr>\n",
       "      <th>15</th>\n",
       "      <td>2006</td>\n",
       "      <td>225246</td>\n",
       "      <td>England</td>\n",
       "      <td>1</td>\n",
       "      <td>1.2</td>\n",
       "      <td>ME Trescothick</td>\n",
       "      <td>0</td>\n",
       "      <td>NaN</td>\n",
       "      <td>0</td>\n",
       "      <td>NaN</td>\n",
       "      <td>0</td>\n",
       "      <td>2</td>\n",
       "    </tr>\n",
       "    <tr>\n",
       "      <th>16</th>\n",
       "      <td>2006</td>\n",
       "      <td>225246</td>\n",
       "      <td>England</td>\n",
       "      <td>1</td>\n",
       "      <td>1.3</td>\n",
       "      <td>ME Trescothick</td>\n",
       "      <td>0</td>\n",
       "      <td>NaN</td>\n",
       "      <td>0</td>\n",
       "      <td>NaN</td>\n",
       "      <td>0</td>\n",
       "      <td>3</td>\n",
       "    </tr>\n",
       "    <tr>\n",
       "      <th>17</th>\n",
       "      <td>2006</td>\n",
       "      <td>225246</td>\n",
       "      <td>England</td>\n",
       "      <td>1</td>\n",
       "      <td>1.4</td>\n",
       "      <td>ME Trescothick</td>\n",
       "      <td>0</td>\n",
       "      <td>NaN</td>\n",
       "      <td>0</td>\n",
       "      <td>NaN</td>\n",
       "      <td>0</td>\n",
       "      <td>4</td>\n",
       "    </tr>\n",
       "    <tr>\n",
       "      <th>18</th>\n",
       "      <td>2006</td>\n",
       "      <td>225246</td>\n",
       "      <td>England</td>\n",
       "      <td>1</td>\n",
       "      <td>1.5</td>\n",
       "      <td>ME Trescothick</td>\n",
       "      <td>1</td>\n",
       "      <td>NaN</td>\n",
       "      <td>0</td>\n",
       "      <td>NaN</td>\n",
       "      <td>0</td>\n",
       "      <td>5</td>\n",
       "    </tr>\n",
       "    <tr>\n",
       "      <th>19</th>\n",
       "      <td>2006</td>\n",
       "      <td>225246</td>\n",
       "      <td>England</td>\n",
       "      <td>1</td>\n",
       "      <td>1.6</td>\n",
       "      <td>AJ Strauss</td>\n",
       "      <td>0</td>\n",
       "      <td>caught</td>\n",
       "      <td>Shoaib Akhtar</td>\n",
       "      <td>AJ Strauss</td>\n",
       "      <td>0</td>\n",
       "      <td>6</td>\n",
       "    </tr>\n",
       "  </tbody>\n",
       "</table>\n",
       "</div>"
      ],
      "text/plain": [
       "    year  match_id team_name  innings  over_ball            name  ball_score  \\\n",
       "0   2006    225171   England        1        1.1  ME Trescothick           0   \n",
       "1   2006    225171   England        1        1.2  ME Trescothick           0   \n",
       "2   2006    225171   England        1        1.3  ME Trescothick           0   \n",
       "3   2006    225171   England        1        1.4  ME Trescothick           0   \n",
       "4   2006    225171   England        1        1.5  ME Trescothick           0   \n",
       "5   2006    225171   England        1        1.6  ME Trescothick           0   \n",
       "6   2006    225171   Ireland        2        2.1        DI Joyce           0   \n",
       "7   2006    225171   Ireland        2        2.2        DI Joyce           0   \n",
       "8   2006    225171   Ireland        2        2.3        DI Joyce           0   \n",
       "9   2006    225171   Ireland        2        2.4        DI Joyce           0   \n",
       "10  2006    225171   Ireland        2        2.5        DI Joyce           0   \n",
       "11  2006    225171   Ireland        2        2.6        AC Botha           0   \n",
       "12  2006    225171   Ireland        2        2.7        AC Botha           0   \n",
       "13  2006    225171   Ireland        2        2.8        AC Botha           0   \n",
       "14  2006    225246   England        1        1.1  ME Trescothick           0   \n",
       "15  2006    225246   England        1        1.2  ME Trescothick           0   \n",
       "16  2006    225246   England        1        1.3  ME Trescothick           0   \n",
       "17  2006    225246   England        1        1.4  ME Trescothick           0   \n",
       "18  2006    225246   England        1        1.5  ME Trescothick           1   \n",
       "19  2006    225246   England        1        1.6      AJ Strauss           0   \n",
       "\n",
       "    wicket      wicket_by batsman_out  extras  ball_of_over  \n",
       "0      NaN              0         NaN       0             1  \n",
       "1      NaN              0         NaN       0             2  \n",
       "2      NaN              0         NaN       4             3  \n",
       "3      NaN              0         NaN       2             4  \n",
       "4      NaN              0         NaN       0             5  \n",
       "5      NaN              0         NaN       0             6  \n",
       "6      NaN              0         NaN       0             1  \n",
       "7      NaN              0         NaN       0             2  \n",
       "8      NaN              0         NaN       5             3  \n",
       "9      NaN              0         NaN       5             4  \n",
       "10  bowled    SJ Harmison    DI Joyce       0             5  \n",
       "11     NaN              0         NaN       0             6  \n",
       "12     NaN              0         NaN       0             7  \n",
       "13     NaN              0         NaN       0             8  \n",
       "14     NaN              0         NaN       0             1  \n",
       "15     NaN              0         NaN       0             2  \n",
       "16     NaN              0         NaN       0             3  \n",
       "17     NaN              0         NaN       0             4  \n",
       "18     NaN              0         NaN       0             5  \n",
       "19  caught  Shoaib Akhtar  AJ Strauss       0             6  "
      ]
     },
     "execution_count": 127,
     "metadata": {},
     "output_type": "execute_result"
    }
   ],
   "source": [
    "odi_with_season.head(20)"
   ]
  },
  {
   "cell_type": "code",
   "execution_count": null,
   "metadata": {},
   "outputs": [],
   "source": []
  },
  {
   "cell_type": "markdown",
   "metadata": {},
   "source": []
  },
  {
   "cell_type": "code",
   "execution_count": null,
   "metadata": {},
   "outputs": [],
   "source": []
  },
  {
   "cell_type": "code",
   "execution_count": 128,
   "metadata": {},
   "outputs": [],
   "source": [
    "matches_played=pd.concat([odi_info['team-0'],odi_info['team-1']])\n",
    "matches_played=matches_played.value_counts().reset_index()\n",
    "matches_played.columns=['Team','Total Matches']\n",
    "matches_played['wins']=odi_info['winner'].value_counts().reset_index()['winner']\n",
    "\n",
    "matches_played.set_index('Team',inplace=True)\n"
   ]
  },
  {
   "cell_type": "code",
   "execution_count": 129,
   "metadata": {},
   "outputs": [
    {
     "data": {
      "text/html": [
       "<div>\n",
       "<style scoped>\n",
       "    .dataframe tbody tr th:only-of-type {\n",
       "        vertical-align: middle;\n",
       "    }\n",
       "\n",
       "    .dataframe tbody tr th {\n",
       "        vertical-align: top;\n",
       "    }\n",
       "\n",
       "    .dataframe thead th {\n",
       "        text-align: right;\n",
       "    }\n",
       "</style>\n",
       "<table border=\"1\" class=\"dataframe\">\n",
       "  <thead>\n",
       "    <tr style=\"text-align: right;\">\n",
       "      <th></th>\n",
       "      <th>Team</th>\n",
       "      <th>Total Matches</th>\n",
       "      <th>wins</th>\n",
       "    </tr>\n",
       "  </thead>\n",
       "  <tbody>\n",
       "    <tr>\n",
       "      <th>0</th>\n",
       "      <td>India</td>\n",
       "      <td>330</td>\n",
       "      <td>222.0</td>\n",
       "    </tr>\n",
       "    <tr>\n",
       "      <th>1</th>\n",
       "      <td>Australia</td>\n",
       "      <td>330</td>\n",
       "      <td>204.0</td>\n",
       "    </tr>\n",
       "    <tr>\n",
       "      <th>2</th>\n",
       "      <td>Sri Lanka</td>\n",
       "      <td>328</td>\n",
       "      <td>174.0</td>\n",
       "    </tr>\n",
       "    <tr>\n",
       "      <th>3</th>\n",
       "      <td>England</td>\n",
       "      <td>305</td>\n",
       "      <td>164.0</td>\n",
       "    </tr>\n",
       "    <tr>\n",
       "      <th>4</th>\n",
       "      <td>South Africa</td>\n",
       "      <td>283</td>\n",
       "      <td>162.0</td>\n",
       "    </tr>\n",
       "    <tr>\n",
       "      <th>5</th>\n",
       "      <td>Pakistan</td>\n",
       "      <td>281</td>\n",
       "      <td>136.0</td>\n",
       "    </tr>\n",
       "    <tr>\n",
       "      <th>6</th>\n",
       "      <td>New Zealand</td>\n",
       "      <td>253</td>\n",
       "      <td>133.0</td>\n",
       "    </tr>\n",
       "    <tr>\n",
       "      <th>7</th>\n",
       "      <td>West Indies</td>\n",
       "      <td>246</td>\n",
       "      <td>88.0</td>\n",
       "    </tr>\n",
       "  </tbody>\n",
       "</table>\n",
       "</div>"
      ],
      "text/plain": [
       "           Team  Total Matches   wins\n",
       "0         India            330  222.0\n",
       "1     Australia            330  204.0\n",
       "2     Sri Lanka            328  174.0\n",
       "3       England            305  164.0\n",
       "4  South Africa            283  162.0\n",
       "5      Pakistan            281  136.0\n",
       "6   New Zealand            253  133.0\n",
       "7   West Indies            246   88.0"
      ]
     },
     "execution_count": 129,
     "metadata": {},
     "output_type": "execute_result"
    }
   ],
   "source": [
    "matches_played.reset_index().head(8)"
   ]
  },
  {
   "cell_type": "code",
   "execution_count": 130,
   "metadata": {},
   "outputs": [
    {
     "data": {
      "text/plain": [
       "Team\n",
       "India        67.3\n",
       "Australia    61.8\n",
       "Sri Lanka    53.0\n",
       "dtype: float64"
      ]
     },
     "execution_count": 130,
     "metadata": {},
     "output_type": "execute_result"
    }
   ],
   "source": [
    "win_percentage = round(matches_played['wins']/matches_played['Total Matches'],3)*100\n",
    "win_percentage.head(3)"
   ]
  },
  {
   "cell_type": "code",
   "execution_count": 131,
   "metadata": {},
   "outputs": [
    {
     "data": {
      "application/vnd.plotly.v1+json": {
       "config": {
        "linkText": "Export to plot.ly",
        "plotlyServerURL": "https://plot.ly",
        "showLink": false
       },
       "data": [
        {
         "name": "Total Matches",
         "opacity": 0.4,
         "type": "bar",
         "x": [
          "India",
          "Australia",
          "Sri Lanka",
          "England",
          "South Africa",
          "Pakistan",
          "New Zealand",
          "West Indies",
          "Bangladesh",
          "Zimbabwe",
          "Ireland",
          "Afghanistan",
          "Scotland",
          "Kenya",
          "Netherlands",
          "Canada",
          "Nepal",
          "United Arab Emirates",
          "Bermuda",
          "Oman",
          "Singapore",
          "Malaysia",
          "United States of America",
          "Hong Kong",
          "Papua New Guinea",
          "Italy",
          "Tanzania",
          "Denmark",
          "Jersey",
          "Uganda",
          "Namibia",
          "Guernsey",
          "Nigeria",
          "Botswana",
          "Ghana",
          "Vanuatu",
          "Bhutan",
          "Kuwait",
          "Sierra Leone",
          "Cayman Islands",
          "Argentina",
          "Suriname",
          "Thailand",
          "Zambia",
          "Norway",
          "Asia XI",
          "Fiji",
          "Maldives",
          "Africa XI",
          "Bahrain",
          "Saudi Arabia",
          "Samoa",
          "Japan",
          "Belgium",
          "China",
          "Qatar"
         ],
         "y": [
          330,
          330,
          328,
          305,
          283,
          281,
          253,
          246,
          206,
          178,
          91,
          64,
          44,
          35,
          33,
          32,
          29,
          26,
          25,
          23,
          20,
          19,
          18,
          17,
          15,
          15,
          15,
          15,
          14,
          13,
          11,
          9,
          9,
          7,
          6,
          6,
          5,
          5,
          5,
          5,
          4,
          4,
          4,
          4,
          3,
          3,
          3,
          3,
          3,
          3,
          2,
          2,
          2,
          1,
          1,
          1
         ]
        },
        {
         "marker": {
          "color": "red"
         },
         "name": "Matches Won",
         "opacity": 0.4,
         "type": "bar",
         "x": [
          "India",
          "Australia",
          "Sri Lanka",
          "England",
          "South Africa",
          "Pakistan",
          "New Zealand",
          "West Indies",
          "Bangladesh",
          "Zimbabwe",
          "Ireland",
          "Afghanistan",
          "Scotland",
          "Kenya",
          "Netherlands",
          "Canada",
          "Nepal",
          "United Arab Emirates",
          "Bermuda",
          "Oman",
          "Singapore",
          "Malaysia",
          "United States of America",
          "Hong Kong",
          "Papua New Guinea",
          "Italy",
          "Tanzania",
          "Denmark",
          "Jersey",
          "Uganda",
          "Namibia",
          "Guernsey",
          "Nigeria",
          "Botswana",
          "Ghana",
          "Vanuatu",
          "Bhutan",
          "Kuwait",
          "Sierra Leone",
          "Cayman Islands",
          "Argentina",
          "Suriname",
          "Thailand",
          "Zambia",
          "Norway",
          "Asia XI",
          "Fiji",
          "Maldives",
          "Africa XI",
          "Bahrain",
          "Saudi Arabia",
          "Samoa",
          "Japan",
          "Belgium",
          "China",
          "Qatar"
         ],
         "y": [
          222,
          204,
          174,
          164,
          162,
          136,
          133,
          88,
          85,
          38,
          32,
          27,
          21,
          15,
          14,
          13,
          13,
          12,
          11,
          10,
          9,
          9,
          8,
          7,
          7,
          6,
          6,
          5,
          5,
          5,
          5,
          4,
          4,
          4,
          3,
          3,
          3,
          3,
          3,
          2,
          1,
          1,
          1,
          1,
          1,
          1,
          1,
          1,
          1,
          1,
          null,
          null,
          null,
          null,
          null,
          null
         ]
        },
        {
         "marker": {
          "color": "gold"
         },
         "name": "Win Percentage",
         "opacity": 0.6,
         "type": "bar",
         "x": [
          "India",
          "Australia",
          "Sri Lanka",
          "England",
          "South Africa",
          "Pakistan",
          "New Zealand",
          "West Indies",
          "Bangladesh",
          "Zimbabwe",
          "Ireland",
          "Afghanistan",
          "Scotland",
          "Kenya",
          "Netherlands",
          "Canada",
          "Nepal",
          "United Arab Emirates",
          "Bermuda",
          "Oman",
          "Singapore",
          "Malaysia",
          "United States of America",
          "Hong Kong",
          "Papua New Guinea",
          "Italy",
          "Tanzania",
          "Denmark",
          "Jersey",
          "Uganda",
          "Namibia",
          "Guernsey",
          "Nigeria",
          "Botswana",
          "Ghana",
          "Vanuatu",
          "Bhutan",
          "Kuwait",
          "Sierra Leone",
          "Cayman Islands",
          "Argentina",
          "Suriname",
          "Thailand",
          "Zambia",
          "Norway",
          "Asia XI",
          "Fiji",
          "Maldives",
          "Africa XI",
          "Bahrain",
          "Saudi Arabia",
          "Samoa",
          "Japan",
          "Belgium",
          "China",
          "Qatar"
         ],
         "y": [
          67.30000000000001,
          61.8,
          53,
          53.800000000000004,
          57.199999999999996,
          48.4,
          52.6,
          35.8,
          41.3,
          21.3,
          35.199999999999996,
          42.199999999999996,
          47.699999999999996,
          42.9,
          42.4,
          40.6,
          44.800000000000004,
          46.2,
          44,
          43.5,
          45,
          47.4,
          44.4,
          41.199999999999996,
          46.7,
          40,
          40,
          33.300000000000004,
          35.699999999999996,
          38.5,
          45.5,
          44.4,
          44.4,
          57.099999999999994,
          50,
          50,
          60,
          60,
          60,
          40,
          25,
          25,
          25,
          25,
          33.300000000000004,
          33.300000000000004,
          33.300000000000004,
          33.300000000000004,
          33.300000000000004,
          33.300000000000004,
          null,
          null,
          null,
          null,
          null,
          null
         ]
        }
       ],
       "layout": {
        "bargap": 0.2,
        "bargroupgap": 0.1,
        "template": {
         "data": {
          "bar": [
           {
            "error_x": {
             "color": "#2a3f5f"
            },
            "error_y": {
             "color": "#2a3f5f"
            },
            "marker": {
             "line": {
              "color": "#E5ECF6",
              "width": 0.5
             }
            },
            "type": "bar"
           }
          ],
          "barpolar": [
           {
            "marker": {
             "line": {
              "color": "#E5ECF6",
              "width": 0.5
             }
            },
            "type": "barpolar"
           }
          ],
          "carpet": [
           {
            "aaxis": {
             "endlinecolor": "#2a3f5f",
             "gridcolor": "white",
             "linecolor": "white",
             "minorgridcolor": "white",
             "startlinecolor": "#2a3f5f"
            },
            "baxis": {
             "endlinecolor": "#2a3f5f",
             "gridcolor": "white",
             "linecolor": "white",
             "minorgridcolor": "white",
             "startlinecolor": "#2a3f5f"
            },
            "type": "carpet"
           }
          ],
          "choropleth": [
           {
            "colorbar": {
             "outlinewidth": 0,
             "ticks": ""
            },
            "type": "choropleth"
           }
          ],
          "contour": [
           {
            "colorbar": {
             "outlinewidth": 0,
             "ticks": ""
            },
            "colorscale": [
             [
              0,
              "#0d0887"
             ],
             [
              0.1111111111111111,
              "#46039f"
             ],
             [
              0.2222222222222222,
              "#7201a8"
             ],
             [
              0.3333333333333333,
              "#9c179e"
             ],
             [
              0.4444444444444444,
              "#bd3786"
             ],
             [
              0.5555555555555556,
              "#d8576b"
             ],
             [
              0.6666666666666666,
              "#ed7953"
             ],
             [
              0.7777777777777778,
              "#fb9f3a"
             ],
             [
              0.8888888888888888,
              "#fdca26"
             ],
             [
              1,
              "#f0f921"
             ]
            ],
            "type": "contour"
           }
          ],
          "contourcarpet": [
           {
            "colorbar": {
             "outlinewidth": 0,
             "ticks": ""
            },
            "type": "contourcarpet"
           }
          ],
          "heatmap": [
           {
            "colorbar": {
             "outlinewidth": 0,
             "ticks": ""
            },
            "colorscale": [
             [
              0,
              "#0d0887"
             ],
             [
              0.1111111111111111,
              "#46039f"
             ],
             [
              0.2222222222222222,
              "#7201a8"
             ],
             [
              0.3333333333333333,
              "#9c179e"
             ],
             [
              0.4444444444444444,
              "#bd3786"
             ],
             [
              0.5555555555555556,
              "#d8576b"
             ],
             [
              0.6666666666666666,
              "#ed7953"
             ],
             [
              0.7777777777777778,
              "#fb9f3a"
             ],
             [
              0.8888888888888888,
              "#fdca26"
             ],
             [
              1,
              "#f0f921"
             ]
            ],
            "type": "heatmap"
           }
          ],
          "heatmapgl": [
           {
            "colorbar": {
             "outlinewidth": 0,
             "ticks": ""
            },
            "colorscale": [
             [
              0,
              "#0d0887"
             ],
             [
              0.1111111111111111,
              "#46039f"
             ],
             [
              0.2222222222222222,
              "#7201a8"
             ],
             [
              0.3333333333333333,
              "#9c179e"
             ],
             [
              0.4444444444444444,
              "#bd3786"
             ],
             [
              0.5555555555555556,
              "#d8576b"
             ],
             [
              0.6666666666666666,
              "#ed7953"
             ],
             [
              0.7777777777777778,
              "#fb9f3a"
             ],
             [
              0.8888888888888888,
              "#fdca26"
             ],
             [
              1,
              "#f0f921"
             ]
            ],
            "type": "heatmapgl"
           }
          ],
          "histogram": [
           {
            "marker": {
             "colorbar": {
              "outlinewidth": 0,
              "ticks": ""
             }
            },
            "type": "histogram"
           }
          ],
          "histogram2d": [
           {
            "colorbar": {
             "outlinewidth": 0,
             "ticks": ""
            },
            "colorscale": [
             [
              0,
              "#0d0887"
             ],
             [
              0.1111111111111111,
              "#46039f"
             ],
             [
              0.2222222222222222,
              "#7201a8"
             ],
             [
              0.3333333333333333,
              "#9c179e"
             ],
             [
              0.4444444444444444,
              "#bd3786"
             ],
             [
              0.5555555555555556,
              "#d8576b"
             ],
             [
              0.6666666666666666,
              "#ed7953"
             ],
             [
              0.7777777777777778,
              "#fb9f3a"
             ],
             [
              0.8888888888888888,
              "#fdca26"
             ],
             [
              1,
              "#f0f921"
             ]
            ],
            "type": "histogram2d"
           }
          ],
          "histogram2dcontour": [
           {
            "colorbar": {
             "outlinewidth": 0,
             "ticks": ""
            },
            "colorscale": [
             [
              0,
              "#0d0887"
             ],
             [
              0.1111111111111111,
              "#46039f"
             ],
             [
              0.2222222222222222,
              "#7201a8"
             ],
             [
              0.3333333333333333,
              "#9c179e"
             ],
             [
              0.4444444444444444,
              "#bd3786"
             ],
             [
              0.5555555555555556,
              "#d8576b"
             ],
             [
              0.6666666666666666,
              "#ed7953"
             ],
             [
              0.7777777777777778,
              "#fb9f3a"
             ],
             [
              0.8888888888888888,
              "#fdca26"
             ],
             [
              1,
              "#f0f921"
             ]
            ],
            "type": "histogram2dcontour"
           }
          ],
          "mesh3d": [
           {
            "colorbar": {
             "outlinewidth": 0,
             "ticks": ""
            },
            "type": "mesh3d"
           }
          ],
          "parcoords": [
           {
            "line": {
             "colorbar": {
              "outlinewidth": 0,
              "ticks": ""
             }
            },
            "type": "parcoords"
           }
          ],
          "pie": [
           {
            "automargin": true,
            "type": "pie"
           }
          ],
          "scatter": [
           {
            "marker": {
             "colorbar": {
              "outlinewidth": 0,
              "ticks": ""
             }
            },
            "type": "scatter"
           }
          ],
          "scatter3d": [
           {
            "line": {
             "colorbar": {
              "outlinewidth": 0,
              "ticks": ""
             }
            },
            "marker": {
             "colorbar": {
              "outlinewidth": 0,
              "ticks": ""
             }
            },
            "type": "scatter3d"
           }
          ],
          "scattercarpet": [
           {
            "marker": {
             "colorbar": {
              "outlinewidth": 0,
              "ticks": ""
             }
            },
            "type": "scattercarpet"
           }
          ],
          "scattergeo": [
           {
            "marker": {
             "colorbar": {
              "outlinewidth": 0,
              "ticks": ""
             }
            },
            "type": "scattergeo"
           }
          ],
          "scattergl": [
           {
            "marker": {
             "colorbar": {
              "outlinewidth": 0,
              "ticks": ""
             }
            },
            "type": "scattergl"
           }
          ],
          "scattermapbox": [
           {
            "marker": {
             "colorbar": {
              "outlinewidth": 0,
              "ticks": ""
             }
            },
            "type": "scattermapbox"
           }
          ],
          "scatterpolar": [
           {
            "marker": {
             "colorbar": {
              "outlinewidth": 0,
              "ticks": ""
             }
            },
            "type": "scatterpolar"
           }
          ],
          "scatterpolargl": [
           {
            "marker": {
             "colorbar": {
              "outlinewidth": 0,
              "ticks": ""
             }
            },
            "type": "scatterpolargl"
           }
          ],
          "scatterternary": [
           {
            "marker": {
             "colorbar": {
              "outlinewidth": 0,
              "ticks": ""
             }
            },
            "type": "scatterternary"
           }
          ],
          "surface": [
           {
            "colorbar": {
             "outlinewidth": 0,
             "ticks": ""
            },
            "colorscale": [
             [
              0,
              "#0d0887"
             ],
             [
              0.1111111111111111,
              "#46039f"
             ],
             [
              0.2222222222222222,
              "#7201a8"
             ],
             [
              0.3333333333333333,
              "#9c179e"
             ],
             [
              0.4444444444444444,
              "#bd3786"
             ],
             [
              0.5555555555555556,
              "#d8576b"
             ],
             [
              0.6666666666666666,
              "#ed7953"
             ],
             [
              0.7777777777777778,
              "#fb9f3a"
             ],
             [
              0.8888888888888888,
              "#fdca26"
             ],
             [
              1,
              "#f0f921"
             ]
            ],
            "type": "surface"
           }
          ],
          "table": [
           {
            "cells": {
             "fill": {
              "color": "#EBF0F8"
             },
             "line": {
              "color": "white"
             }
            },
            "header": {
             "fill": {
              "color": "#C8D4E3"
             },
             "line": {
              "color": "white"
             }
            },
            "type": "table"
           }
          ]
         },
         "layout": {
          "annotationdefaults": {
           "arrowcolor": "#2a3f5f",
           "arrowhead": 0,
           "arrowwidth": 1
          },
          "coloraxis": {
           "colorbar": {
            "outlinewidth": 0,
            "ticks": ""
           }
          },
          "colorscale": {
           "diverging": [
            [
             0,
             "#8e0152"
            ],
            [
             0.1,
             "#c51b7d"
            ],
            [
             0.2,
             "#de77ae"
            ],
            [
             0.3,
             "#f1b6da"
            ],
            [
             0.4,
             "#fde0ef"
            ],
            [
             0.5,
             "#f7f7f7"
            ],
            [
             0.6,
             "#e6f5d0"
            ],
            [
             0.7,
             "#b8e186"
            ],
            [
             0.8,
             "#7fbc41"
            ],
            [
             0.9,
             "#4d9221"
            ],
            [
             1,
             "#276419"
            ]
           ],
           "sequential": [
            [
             0,
             "#0d0887"
            ],
            [
             0.1111111111111111,
             "#46039f"
            ],
            [
             0.2222222222222222,
             "#7201a8"
            ],
            [
             0.3333333333333333,
             "#9c179e"
            ],
            [
             0.4444444444444444,
             "#bd3786"
            ],
            [
             0.5555555555555556,
             "#d8576b"
            ],
            [
             0.6666666666666666,
             "#ed7953"
            ],
            [
             0.7777777777777778,
             "#fb9f3a"
            ],
            [
             0.8888888888888888,
             "#fdca26"
            ],
            [
             1,
             "#f0f921"
            ]
           ],
           "sequentialminus": [
            [
             0,
             "#0d0887"
            ],
            [
             0.1111111111111111,
             "#46039f"
            ],
            [
             0.2222222222222222,
             "#7201a8"
            ],
            [
             0.3333333333333333,
             "#9c179e"
            ],
            [
             0.4444444444444444,
             "#bd3786"
            ],
            [
             0.5555555555555556,
             "#d8576b"
            ],
            [
             0.6666666666666666,
             "#ed7953"
            ],
            [
             0.7777777777777778,
             "#fb9f3a"
            ],
            [
             0.8888888888888888,
             "#fdca26"
            ],
            [
             1,
             "#f0f921"
            ]
           ]
          },
          "colorway": [
           "#636efa",
           "#EF553B",
           "#00cc96",
           "#ab63fa",
           "#FFA15A",
           "#19d3f3",
           "#FF6692",
           "#B6E880",
           "#FF97FF",
           "#FECB52"
          ],
          "font": {
           "color": "#2a3f5f"
          },
          "geo": {
           "bgcolor": "white",
           "lakecolor": "white",
           "landcolor": "#E5ECF6",
           "showlakes": true,
           "showland": true,
           "subunitcolor": "white"
          },
          "hoverlabel": {
           "align": "left"
          },
          "hovermode": "closest",
          "mapbox": {
           "style": "light"
          },
          "paper_bgcolor": "white",
          "plot_bgcolor": "#E5ECF6",
          "polar": {
           "angularaxis": {
            "gridcolor": "white",
            "linecolor": "white",
            "ticks": ""
           },
           "bgcolor": "#E5ECF6",
           "radialaxis": {
            "gridcolor": "white",
            "linecolor": "white",
            "ticks": ""
           }
          },
          "scene": {
           "xaxis": {
            "backgroundcolor": "#E5ECF6",
            "gridcolor": "white",
            "gridwidth": 2,
            "linecolor": "white",
            "showbackground": true,
            "ticks": "",
            "zerolinecolor": "white"
           },
           "yaxis": {
            "backgroundcolor": "#E5ECF6",
            "gridcolor": "white",
            "gridwidth": 2,
            "linecolor": "white",
            "showbackground": true,
            "ticks": "",
            "zerolinecolor": "white"
           },
           "zaxis": {
            "backgroundcolor": "#E5ECF6",
            "gridcolor": "white",
            "gridwidth": 2,
            "linecolor": "white",
            "showbackground": true,
            "ticks": "",
            "zerolinecolor": "white"
           }
          },
          "shapedefaults": {
           "line": {
            "color": "#2a3f5f"
           }
          },
          "ternary": {
           "aaxis": {
            "gridcolor": "white",
            "linecolor": "white",
            "ticks": ""
           },
           "baxis": {
            "gridcolor": "white",
            "linecolor": "white",
            "ticks": ""
           },
           "bgcolor": "#E5ECF6",
           "caxis": {
            "gridcolor": "white",
            "linecolor": "white",
            "ticks": ""
           }
          },
          "title": {
           "x": 0.05
          },
          "xaxis": {
           "automargin": true,
           "gridcolor": "white",
           "linecolor": "white",
           "ticks": "",
           "title": {
            "standoff": 15
           },
           "zerolinecolor": "white",
           "zerolinewidth": 2
          },
          "yaxis": {
           "automargin": true,
           "gridcolor": "white",
           "linecolor": "white",
           "ticks": "",
           "title": {
            "standoff": 15
           },
           "zerolinecolor": "white",
           "zerolinewidth": 2
          }
         }
        },
        "title": {
         "text": "Match Played, Wins And Win Percentage"
        },
        "xaxis": {
         "title": {
          "text": "Team"
         }
        },
        "yaxis": {
         "title": {
          "text": "Count"
         }
        }
       }
      },
      "text/html": [
       "<div>\n",
       "        \n",
       "        \n",
       "            <div id=\"200a95df-fc93-4a81-a47e-b9880a84812f\" class=\"plotly-graph-div\" style=\"height:525px; width:100%;\"></div>\n",
       "            <script type=\"text/javascript\">\n",
       "                require([\"plotly\"], function(Plotly) {\n",
       "                    window.PLOTLYENV=window.PLOTLYENV || {};\n",
       "                    \n",
       "                if (document.getElementById(\"200a95df-fc93-4a81-a47e-b9880a84812f\")) {\n",
       "                    Plotly.newPlot(\n",
       "                        '200a95df-fc93-4a81-a47e-b9880a84812f',\n",
       "                        [{\"name\": \"Total Matches\", \"opacity\": 0.4, \"type\": \"bar\", \"x\": [\"India\", \"Australia\", \"Sri Lanka\", \"England\", \"South Africa\", \"Pakistan\", \"New Zealand\", \"West Indies\", \"Bangladesh\", \"Zimbabwe\", \"Ireland\", \"Afghanistan\", \"Scotland\", \"Kenya\", \"Netherlands\", \"Canada\", \"Nepal\", \"United Arab Emirates\", \"Bermuda\", \"Oman\", \"Singapore\", \"Malaysia\", \"United States of America\", \"Hong Kong\", \"Papua New Guinea\", \"Italy\", \"Tanzania\", \"Denmark\", \"Jersey\", \"Uganda\", \"Namibia\", \"Guernsey\", \"Nigeria\", \"Botswana\", \"Ghana\", \"Vanuatu\", \"Bhutan\", \"Kuwait\", \"Sierra Leone\", \"Cayman Islands\", \"Argentina\", \"Suriname\", \"Thailand\", \"Zambia\", \"Norway\", \"Asia XI\", \"Fiji\", \"Maldives\", \"Africa XI\", \"Bahrain\", \"Saudi Arabia\", \"Samoa\", \"Japan\", \"Belgium\", \"China\", \"Qatar\"], \"y\": [330, 330, 328, 305, 283, 281, 253, 246, 206, 178, 91, 64, 44, 35, 33, 32, 29, 26, 25, 23, 20, 19, 18, 17, 15, 15, 15, 15, 14, 13, 11, 9, 9, 7, 6, 6, 5, 5, 5, 5, 4, 4, 4, 4, 3, 3, 3, 3, 3, 3, 2, 2, 2, 1, 1, 1]}, {\"marker\": {\"color\": \"red\"}, \"name\": \"Matches Won\", \"opacity\": 0.4, \"type\": \"bar\", \"x\": [\"India\", \"Australia\", \"Sri Lanka\", \"England\", \"South Africa\", \"Pakistan\", \"New Zealand\", \"West Indies\", \"Bangladesh\", \"Zimbabwe\", \"Ireland\", \"Afghanistan\", \"Scotland\", \"Kenya\", \"Netherlands\", \"Canada\", \"Nepal\", \"United Arab Emirates\", \"Bermuda\", \"Oman\", \"Singapore\", \"Malaysia\", \"United States of America\", \"Hong Kong\", \"Papua New Guinea\", \"Italy\", \"Tanzania\", \"Denmark\", \"Jersey\", \"Uganda\", \"Namibia\", \"Guernsey\", \"Nigeria\", \"Botswana\", \"Ghana\", \"Vanuatu\", \"Bhutan\", \"Kuwait\", \"Sierra Leone\", \"Cayman Islands\", \"Argentina\", \"Suriname\", \"Thailand\", \"Zambia\", \"Norway\", \"Asia XI\", \"Fiji\", \"Maldives\", \"Africa XI\", \"Bahrain\", \"Saudi Arabia\", \"Samoa\", \"Japan\", \"Belgium\", \"China\", \"Qatar\"], \"y\": [222.0, 204.0, 174.0, 164.0, 162.0, 136.0, 133.0, 88.0, 85.0, 38.0, 32.0, 27.0, 21.0, 15.0, 14.0, 13.0, 13.0, 12.0, 11.0, 10.0, 9.0, 9.0, 8.0, 7.0, 7.0, 6.0, 6.0, 5.0, 5.0, 5.0, 5.0, 4.0, 4.0, 4.0, 3.0, 3.0, 3.0, 3.0, 3.0, 2.0, 1.0, 1.0, 1.0, 1.0, 1.0, 1.0, 1.0, 1.0, 1.0, 1.0, null, null, null, null, null, null]}, {\"marker\": {\"color\": \"gold\"}, \"name\": \"Win Percentage\", \"opacity\": 0.6, \"type\": \"bar\", \"x\": [\"India\", \"Australia\", \"Sri Lanka\", \"England\", \"South Africa\", \"Pakistan\", \"New Zealand\", \"West Indies\", \"Bangladesh\", \"Zimbabwe\", \"Ireland\", \"Afghanistan\", \"Scotland\", \"Kenya\", \"Netherlands\", \"Canada\", \"Nepal\", \"United Arab Emirates\", \"Bermuda\", \"Oman\", \"Singapore\", \"Malaysia\", \"United States of America\", \"Hong Kong\", \"Papua New Guinea\", \"Italy\", \"Tanzania\", \"Denmark\", \"Jersey\", \"Uganda\", \"Namibia\", \"Guernsey\", \"Nigeria\", \"Botswana\", \"Ghana\", \"Vanuatu\", \"Bhutan\", \"Kuwait\", \"Sierra Leone\", \"Cayman Islands\", \"Argentina\", \"Suriname\", \"Thailand\", \"Zambia\", \"Norway\", \"Asia XI\", \"Fiji\", \"Maldives\", \"Africa XI\", \"Bahrain\", \"Saudi Arabia\", \"Samoa\", \"Japan\", \"Belgium\", \"China\", \"Qatar\"], \"y\": [67.30000000000001, 61.8, 53.0, 53.800000000000004, 57.199999999999996, 48.4, 52.6, 35.8, 41.3, 21.3, 35.199999999999996, 42.199999999999996, 47.699999999999996, 42.9, 42.4, 40.6, 44.800000000000004, 46.2, 44.0, 43.5, 45.0, 47.4, 44.4, 41.199999999999996, 46.7, 40.0, 40.0, 33.300000000000004, 35.699999999999996, 38.5, 45.5, 44.4, 44.4, 57.099999999999994, 50.0, 50.0, 60.0, 60.0, 60.0, 40.0, 25.0, 25.0, 25.0, 25.0, 33.300000000000004, 33.300000000000004, 33.300000000000004, 33.300000000000004, 33.300000000000004, 33.300000000000004, null, null, null, null, null, null]}],\n",
       "                        {\"bargap\": 0.2, \"bargroupgap\": 0.1, \"template\": {\"data\": {\"bar\": [{\"error_x\": {\"color\": \"#2a3f5f\"}, \"error_y\": {\"color\": \"#2a3f5f\"}, \"marker\": {\"line\": {\"color\": \"#E5ECF6\", \"width\": 0.5}}, \"type\": \"bar\"}], \"barpolar\": [{\"marker\": {\"line\": {\"color\": \"#E5ECF6\", \"width\": 0.5}}, \"type\": \"barpolar\"}], \"carpet\": [{\"aaxis\": {\"endlinecolor\": \"#2a3f5f\", \"gridcolor\": \"white\", \"linecolor\": \"white\", \"minorgridcolor\": \"white\", \"startlinecolor\": \"#2a3f5f\"}, \"baxis\": {\"endlinecolor\": \"#2a3f5f\", \"gridcolor\": \"white\", \"linecolor\": \"white\", \"minorgridcolor\": \"white\", \"startlinecolor\": \"#2a3f5f\"}, \"type\": \"carpet\"}], \"choropleth\": [{\"colorbar\": {\"outlinewidth\": 0, \"ticks\": \"\"}, \"type\": \"choropleth\"}], \"contour\": [{\"colorbar\": {\"outlinewidth\": 0, \"ticks\": \"\"}, \"colorscale\": [[0.0, \"#0d0887\"], [0.1111111111111111, \"#46039f\"], [0.2222222222222222, \"#7201a8\"], [0.3333333333333333, \"#9c179e\"], [0.4444444444444444, \"#bd3786\"], [0.5555555555555556, \"#d8576b\"], [0.6666666666666666, \"#ed7953\"], [0.7777777777777778, \"#fb9f3a\"], [0.8888888888888888, \"#fdca26\"], [1.0, \"#f0f921\"]], \"type\": \"contour\"}], \"contourcarpet\": [{\"colorbar\": {\"outlinewidth\": 0, \"ticks\": \"\"}, \"type\": \"contourcarpet\"}], \"heatmap\": [{\"colorbar\": {\"outlinewidth\": 0, \"ticks\": \"\"}, \"colorscale\": [[0.0, \"#0d0887\"], [0.1111111111111111, \"#46039f\"], [0.2222222222222222, \"#7201a8\"], [0.3333333333333333, \"#9c179e\"], [0.4444444444444444, \"#bd3786\"], [0.5555555555555556, \"#d8576b\"], [0.6666666666666666, \"#ed7953\"], [0.7777777777777778, \"#fb9f3a\"], [0.8888888888888888, \"#fdca26\"], [1.0, \"#f0f921\"]], \"type\": \"heatmap\"}], \"heatmapgl\": [{\"colorbar\": {\"outlinewidth\": 0, \"ticks\": \"\"}, \"colorscale\": [[0.0, \"#0d0887\"], [0.1111111111111111, \"#46039f\"], [0.2222222222222222, \"#7201a8\"], [0.3333333333333333, \"#9c179e\"], [0.4444444444444444, \"#bd3786\"], [0.5555555555555556, \"#d8576b\"], [0.6666666666666666, \"#ed7953\"], [0.7777777777777778, \"#fb9f3a\"], [0.8888888888888888, \"#fdca26\"], [1.0, \"#f0f921\"]], \"type\": \"heatmapgl\"}], \"histogram\": [{\"marker\": {\"colorbar\": {\"outlinewidth\": 0, \"ticks\": \"\"}}, \"type\": \"histogram\"}], \"histogram2d\": [{\"colorbar\": {\"outlinewidth\": 0, \"ticks\": \"\"}, \"colorscale\": [[0.0, \"#0d0887\"], [0.1111111111111111, \"#46039f\"], [0.2222222222222222, \"#7201a8\"], [0.3333333333333333, \"#9c179e\"], [0.4444444444444444, \"#bd3786\"], [0.5555555555555556, \"#d8576b\"], [0.6666666666666666, \"#ed7953\"], [0.7777777777777778, \"#fb9f3a\"], [0.8888888888888888, \"#fdca26\"], [1.0, \"#f0f921\"]], \"type\": \"histogram2d\"}], \"histogram2dcontour\": [{\"colorbar\": {\"outlinewidth\": 0, \"ticks\": \"\"}, \"colorscale\": [[0.0, \"#0d0887\"], [0.1111111111111111, \"#46039f\"], [0.2222222222222222, \"#7201a8\"], [0.3333333333333333, \"#9c179e\"], [0.4444444444444444, \"#bd3786\"], [0.5555555555555556, \"#d8576b\"], [0.6666666666666666, \"#ed7953\"], [0.7777777777777778, \"#fb9f3a\"], [0.8888888888888888, \"#fdca26\"], [1.0, \"#f0f921\"]], \"type\": \"histogram2dcontour\"}], \"mesh3d\": [{\"colorbar\": {\"outlinewidth\": 0, \"ticks\": \"\"}, \"type\": \"mesh3d\"}], \"parcoords\": [{\"line\": {\"colorbar\": {\"outlinewidth\": 0, \"ticks\": \"\"}}, \"type\": \"parcoords\"}], \"pie\": [{\"automargin\": true, \"type\": \"pie\"}], \"scatter\": [{\"marker\": {\"colorbar\": {\"outlinewidth\": 0, \"ticks\": \"\"}}, \"type\": \"scatter\"}], \"scatter3d\": [{\"line\": {\"colorbar\": {\"outlinewidth\": 0, \"ticks\": \"\"}}, \"marker\": {\"colorbar\": {\"outlinewidth\": 0, \"ticks\": \"\"}}, \"type\": \"scatter3d\"}], \"scattercarpet\": [{\"marker\": {\"colorbar\": {\"outlinewidth\": 0, \"ticks\": \"\"}}, \"type\": \"scattercarpet\"}], \"scattergeo\": [{\"marker\": {\"colorbar\": {\"outlinewidth\": 0, \"ticks\": \"\"}}, \"type\": \"scattergeo\"}], \"scattergl\": [{\"marker\": {\"colorbar\": {\"outlinewidth\": 0, \"ticks\": \"\"}}, \"type\": \"scattergl\"}], \"scattermapbox\": [{\"marker\": {\"colorbar\": {\"outlinewidth\": 0, \"ticks\": \"\"}}, \"type\": \"scattermapbox\"}], \"scatterpolar\": [{\"marker\": {\"colorbar\": {\"outlinewidth\": 0, \"ticks\": \"\"}}, \"type\": \"scatterpolar\"}], \"scatterpolargl\": [{\"marker\": {\"colorbar\": {\"outlinewidth\": 0, \"ticks\": \"\"}}, \"type\": \"scatterpolargl\"}], \"scatterternary\": [{\"marker\": {\"colorbar\": {\"outlinewidth\": 0, \"ticks\": \"\"}}, \"type\": \"scatterternary\"}], \"surface\": [{\"colorbar\": {\"outlinewidth\": 0, \"ticks\": \"\"}, \"colorscale\": [[0.0, \"#0d0887\"], [0.1111111111111111, \"#46039f\"], [0.2222222222222222, \"#7201a8\"], [0.3333333333333333, \"#9c179e\"], [0.4444444444444444, \"#bd3786\"], [0.5555555555555556, \"#d8576b\"], [0.6666666666666666, \"#ed7953\"], [0.7777777777777778, \"#fb9f3a\"], [0.8888888888888888, \"#fdca26\"], [1.0, \"#f0f921\"]], \"type\": \"surface\"}], \"table\": [{\"cells\": {\"fill\": {\"color\": \"#EBF0F8\"}, \"line\": {\"color\": \"white\"}}, \"header\": {\"fill\": {\"color\": \"#C8D4E3\"}, \"line\": {\"color\": \"white\"}}, \"type\": \"table\"}]}, \"layout\": {\"annotationdefaults\": {\"arrowcolor\": \"#2a3f5f\", \"arrowhead\": 0, \"arrowwidth\": 1}, \"coloraxis\": {\"colorbar\": {\"outlinewidth\": 0, \"ticks\": \"\"}}, \"colorscale\": {\"diverging\": [[0, \"#8e0152\"], [0.1, \"#c51b7d\"], [0.2, \"#de77ae\"], [0.3, \"#f1b6da\"], [0.4, \"#fde0ef\"], [0.5, \"#f7f7f7\"], [0.6, \"#e6f5d0\"], [0.7, \"#b8e186\"], [0.8, \"#7fbc41\"], [0.9, \"#4d9221\"], [1, \"#276419\"]], \"sequential\": [[0.0, \"#0d0887\"], [0.1111111111111111, \"#46039f\"], [0.2222222222222222, \"#7201a8\"], [0.3333333333333333, \"#9c179e\"], [0.4444444444444444, \"#bd3786\"], [0.5555555555555556, \"#d8576b\"], [0.6666666666666666, \"#ed7953\"], [0.7777777777777778, \"#fb9f3a\"], [0.8888888888888888, \"#fdca26\"], [1.0, \"#f0f921\"]], \"sequentialminus\": [[0.0, \"#0d0887\"], [0.1111111111111111, \"#46039f\"], [0.2222222222222222, \"#7201a8\"], [0.3333333333333333, \"#9c179e\"], [0.4444444444444444, \"#bd3786\"], [0.5555555555555556, \"#d8576b\"], [0.6666666666666666, \"#ed7953\"], [0.7777777777777778, \"#fb9f3a\"], [0.8888888888888888, \"#fdca26\"], [1.0, \"#f0f921\"]]}, \"colorway\": [\"#636efa\", \"#EF553B\", \"#00cc96\", \"#ab63fa\", \"#FFA15A\", \"#19d3f3\", \"#FF6692\", \"#B6E880\", \"#FF97FF\", \"#FECB52\"], \"font\": {\"color\": \"#2a3f5f\"}, \"geo\": {\"bgcolor\": \"white\", \"lakecolor\": \"white\", \"landcolor\": \"#E5ECF6\", \"showlakes\": true, \"showland\": true, \"subunitcolor\": \"white\"}, \"hoverlabel\": {\"align\": \"left\"}, \"hovermode\": \"closest\", \"mapbox\": {\"style\": \"light\"}, \"paper_bgcolor\": \"white\", \"plot_bgcolor\": \"#E5ECF6\", \"polar\": {\"angularaxis\": {\"gridcolor\": \"white\", \"linecolor\": \"white\", \"ticks\": \"\"}, \"bgcolor\": \"#E5ECF6\", \"radialaxis\": {\"gridcolor\": \"white\", \"linecolor\": \"white\", \"ticks\": \"\"}}, \"scene\": {\"xaxis\": {\"backgroundcolor\": \"#E5ECF6\", \"gridcolor\": \"white\", \"gridwidth\": 2, \"linecolor\": \"white\", \"showbackground\": true, \"ticks\": \"\", \"zerolinecolor\": \"white\"}, \"yaxis\": {\"backgroundcolor\": \"#E5ECF6\", \"gridcolor\": \"white\", \"gridwidth\": 2, \"linecolor\": \"white\", \"showbackground\": true, \"ticks\": \"\", \"zerolinecolor\": \"white\"}, \"zaxis\": {\"backgroundcolor\": \"#E5ECF6\", \"gridcolor\": \"white\", \"gridwidth\": 2, \"linecolor\": \"white\", \"showbackground\": true, \"ticks\": \"\", \"zerolinecolor\": \"white\"}}, \"shapedefaults\": {\"line\": {\"color\": \"#2a3f5f\"}}, \"ternary\": {\"aaxis\": {\"gridcolor\": \"white\", \"linecolor\": \"white\", \"ticks\": \"\"}, \"baxis\": {\"gridcolor\": \"white\", \"linecolor\": \"white\", \"ticks\": \"\"}, \"bgcolor\": \"#E5ECF6\", \"caxis\": {\"gridcolor\": \"white\", \"linecolor\": \"white\", \"ticks\": \"\"}}, \"title\": {\"x\": 0.05}, \"xaxis\": {\"automargin\": true, \"gridcolor\": \"white\", \"linecolor\": \"white\", \"ticks\": \"\", \"title\": {\"standoff\": 15}, \"zerolinecolor\": \"white\", \"zerolinewidth\": 2}, \"yaxis\": {\"automargin\": true, \"gridcolor\": \"white\", \"linecolor\": \"white\", \"ticks\": \"\", \"title\": {\"standoff\": 15}, \"zerolinecolor\": \"white\", \"zerolinewidth\": 2}}}, \"title\": {\"text\": \"Match Played, Wins And Win Percentage\"}, \"xaxis\": {\"title\": {\"text\": \"Team\"}}, \"yaxis\": {\"title\": {\"text\": \"Count\"}}},\n",
       "                        {\"responsive\": true}\n",
       "                    ).then(function(){\n",
       "                            \n",
       "var gd = document.getElementById('200a95df-fc93-4a81-a47e-b9880a84812f');\n",
       "var x = new MutationObserver(function (mutations, observer) {{\n",
       "        var display = window.getComputedStyle(gd).display;\n",
       "        if (!display || display === 'none') {{\n",
       "            console.log([gd, 'removed!']);\n",
       "            Plotly.purge(gd);\n",
       "            observer.disconnect();\n",
       "        }}\n",
       "}});\n",
       "\n",
       "// Listen for the removal of the full notebook cells\n",
       "var notebookContainer = gd.closest('#notebook-container');\n",
       "if (notebookContainer) {{\n",
       "    x.observe(notebookContainer, {childList: true});\n",
       "}}\n",
       "\n",
       "// Listen for the clearing of the current output cell\n",
       "var outputEl = gd.closest('.output');\n",
       "if (outputEl) {{\n",
       "    x.observe(outputEl, {childList: true});\n",
       "}}\n",
       "\n",
       "                        })\n",
       "                };\n",
       "                });\n",
       "            </script>\n",
       "        </div>"
      ]
     },
     "metadata": {},
     "output_type": "display_data"
    }
   ],
   "source": [
    "import plotly as py\n",
    "from plotly import tools\n",
    "from plotly.offline import init_notebook_mode,iplot\n",
    "trace1 = go.Bar(x=matches_played.index,y=matches_played['Total Matches'],\n",
    "                name='Total Matches',opacity=0.4)\n",
    "\n",
    "trace2 = go.Bar(x=matches_played.index,y=matches_played['wins'],\n",
    "                name='Matches Won',marker=dict(color='red'),opacity=0.4)\n",
    "\n",
    "trace3 = go.Bar(x=matches_played.index,\n",
    "               y=(round(matches_played['wins']/matches_played['Total Matches'],3)*100),\n",
    "               name='Win Percentage',opacity=0.6,marker=dict(color='gold'))\n",
    "\n",
    "data = [trace1, trace2, trace3]\n",
    "\n",
    "layout = go.Layout(title='Match Played, Wins And Win Percentage',xaxis=dict(title='Team'),\n",
    "                   yaxis=dict(title='Count'),bargap=0.2,bargroupgap=0.1)\n",
    "\n",
    "fig = go.Figure(data=data, layout=layout)\n",
    "iplot(fig)\n",
    "\n"
   ]
  },
  {
   "cell_type": "code",
   "execution_count": null,
   "metadata": {
    "scrolled": true
   },
   "outputs": [],
   "source": []
  },
  {
   "cell_type": "code",
   "execution_count": 69,
   "metadata": {},
   "outputs": [],
   "source": [
    "# matches_played_byteams.head()"
   ]
  },
  {
   "cell_type": "code",
   "execution_count": 70,
   "metadata": {},
   "outputs": [
    {
     "data": {
      "image/png": "[encoded data removed]",
      "text/plain": [
       "<Figure size 720x432 with 1 Axes>"
      ]
     },
     "metadata": {},
     "output_type": "display_data"
    }
   ],
   "source": [
    "# maximum man of match\n",
    "\n",
    "mlt.subplots(figsize=(10,6))\n",
    "a = odi_info['player-of-match'].value_counts().head(10).plot.bar(width=.8, color=sns.color_palette('inferno',10))  #counts the values corresponding \n",
    "# to each batsman and then filters out the top 10 batsman and then plots a bargraph \n",
    "a.set_xlabel('player-of-match') \n",
    "a.set_ylabel('count')\n",
    "for p in ax.patches:\n",
    "    ax.annotate(format(p.get_height()), (p.get_x()+0.15, p.get_height()+0.25))\n",
    "mlt.show()"
   ]
  },
  {
   "cell_type": "code",
   "execution_count": 71,
   "metadata": {},
   "outputs": [
    {
     "data": {
      "text/plain": [
       "Index(['city', 'competition', 'date', 'match-id', 'gender', 'match-number',\n",
       "       'match-referee', 'method', 'neutralvenue', 'outcome', 'player-of-match',\n",
       "       'reserve-umpire', 'season', 'series', 'team-0', 'team-1',\n",
       "       'toss-decision', 'toss-winner', 'tv-umpire', 'umpire-0', 'umpire-1',\n",
       "       'venue', 'winner', 'winner-runs', 'winner-wickets', 'year'],\n",
       "      dtype='object')"
      ]
     },
     "execution_count": 71,
     "metadata": {},
     "output_type": "execute_result"
    }
   ],
   "source": [
    "odi_with_season.columns\n",
    "odi_info.columns\n"
   ]
  },
  {
   "cell_type": "code",
   "execution_count": null,
   "metadata": {},
   "outputs": [],
   "source": []
  },
  {
   "cell_type": "code",
   "execution_count": 138,
   "metadata": {},
   "outputs": [
    {
     "data": {
      "image/png": "[encoded data removed]",
      "text/plain": [
       "<Figure size 576x576 with 1 Axes>"
      ]
     },
     "metadata": {},
     "output_type": "display_data"
    }
   ],
   "source": [
    "import seaborn as sns\n",
    "\n",
    "names = ' '\n",
    "for name in odi_info['player-of-match']:\n",
    "    name = str(name)\n",
    "    names = names + name + ' '\n",
    "from wordcloud import WordCloud, STOPWORDS \n",
    "wordcloud = WordCloud(width = 800, height = 800, \n",
    "                background_color ='black',  \n",
    "                min_font_size = 10).generate(names) \n",
    "  \n",
    "# plot the WordCloud image                        \n",
    "plt.figure(figsize = (8, 8), facecolor = None) \n",
    "plt.imshow(wordcloud) \n",
    "plt.axis(\"off\") \n",
    "plt.tight_layout(pad = 0) \n",
    "plt.show() "
   ]
  },
  {
   "cell_type": "code",
   "execution_count": 139,
   "metadata": {},
   "outputs": [
    {
     "data": {
      "text/plain": [
       "Index(['match_id', 'team_name', 'innings', 'over_ball', 'name', 'ball_score',\n",
       "       'wicket', 'wicket_by', 'batsman_out', 'extras', 'ball_of_over'],\n",
       "      dtype='object')"
      ]
     },
     "execution_count": 139,
     "metadata": {},
     "output_type": "execute_result"
    }
   ],
   "source": [
    "odi_scorecard.columns"
   ]
  },
  {
   "cell_type": "code",
   "execution_count": 140,
   "metadata": {},
   "outputs": [
    {
     "data": {
      "image/png": "[encoded data removed]",
      "text/plain": [
       "<Figure size 1080x576 with 1 Axes>"
      ]
     },
     "metadata": {},
     "output_type": "display_data"
    }
   ],
   "source": [
    "plt.figure(figsize=(15,8))\n",
    "plt.xticks(rotation=50)\n",
    "sns.set()\n",
    "sns.set(style=\"darkgrid\")\n",
    "ax = sns.countplot(x=odi_scorecard['wicket'], data=odi_scorecard)"
   ]
  },
  {
   "cell_type": "code",
   "execution_count": 52,
   "metadata": {},
   "outputs": [
    {
     "name": "stderr",
     "output_type": "stream",
     "text": [
      "/home/payal/anaconda3/envs/home/lib/python3.7/site-packages/ipykernel_launcher.py:1: UserWarning:\n",
      "\n",
      "Boolean Series key will be reindexed to match DataFrame index.\n",
      "\n"
     ]
    },
    {
     "data": {
      "image/png": "[encoded data removed]",
      "text/plain": [
       "<Figure size 432x432 with 1 Axes>"
      ]
     },
     "metadata": {},
     "output_type": "display_data"
    }
   ],
   "source": [
    "# probability of wicket by bowled\n",
    "df=odi_info[odi_scorecard['wicket']=='bowled']\n",
    "slices=[len(df),(1707-len(df))]\n",
    "labels=['yes','no']\n",
    "mlt.pie(slices,labels=labels,startangle=90,shadow=True,explode=(0,0.05),autopct='%1.1f%%',colors=['r','g'])\n",
    "fig = mlt.gcf()\n",
    "fig.set_size_inches(6,6)\n",
    "mlt.show()"
   ]
  },
  {
   "cell_type": "code",
   "execution_count": 53,
   "metadata": {},
   "outputs": [
    {
     "name": "stderr",
     "output_type": "stream",
     "text": [
      "/home/payal/anaconda3/envs/home/lib/python3.7/site-packages/ipykernel_launcher.py:1: UserWarning:\n",
      "\n",
      "Boolean Series key will be reindexed to match DataFrame index.\n",
      "\n"
     ]
    },
    {
     "data": {
      "image/png": "[encoded data removed]",
      "text/plain": [
       "<Figure size 432x432 with 1 Axes>"
      ]
     },
     "metadata": {},
     "output_type": "display_data"
    }
   ],
   "source": [
    "# probability of wicket by caught\n",
    "df=odi_info[odi_scorecard['wicket']=='caught']\n",
    "slices=[len(df),(1707-len(df))]\n",
    "labels=['yes','no']\n",
    "mlt.pie(slices,labels=labels,startangle=90,shadow=True,explode=(0,0.05),autopct='%1.1f%%',colors=['r','g'])\n",
    "fig = mlt.gcf()\n",
    "fig.set_size_inches(6,6)\n",
    "mlt.show()"
   ]
  },
  {
   "cell_type": "code",
   "execution_count": 54,
   "metadata": {},
   "outputs": [
    {
     "name": "stderr",
     "output_type": "stream",
     "text": [
      "/home/payal/anaconda3/envs/home/lib/python3.7/site-packages/ipykernel_launcher.py:1: UserWarning:\n",
      "\n",
      "Boolean Series key will be reindexed to match DataFrame index.\n",
      "\n"
     ]
    },
    {
     "data": {
      "image/png": "[encoded data removed]",
      "text/plain": [
       "<Figure size 432x432 with 1 Axes>"
      ]
     },
     "metadata": {},
     "output_type": "display_data"
    }
   ],
   "source": [
    "# probability of wicket by lbw\n",
    "df=odi_info[odi_scorecard['wicket']=='lbw']\n",
    "slices=[len(df),(1707-len(df))]\n",
    "labels=['yes','no']\n",
    "mlt.pie(slices,labels=labels,startangle=90,shadow=True,explode=(0,0.05),autopct='%1.1f%%',colors=['r','g'])\n",
    "fig = mlt.gcf()\n",
    "fig.set_size_inches(6,6)\n",
    "mlt.show()"
   ]
  },
  {
   "cell_type": "code",
   "execution_count": 55,
   "metadata": {},
   "outputs": [
    {
     "name": "stderr",
     "output_type": "stream",
     "text": [
      "/home/payal/anaconda3/envs/home/lib/python3.7/site-packages/ipykernel_launcher.py:1: UserWarning:\n",
      "\n",
      "Boolean Series key will be reindexed to match DataFrame index.\n",
      "\n"
     ]
    },
    {
     "data": {
      "image/png": "[encoded data removed]",
      "text/plain": [
       "<Figure size 432x432 with 1 Axes>"
      ]
     },
     "metadata": {},
     "output_type": "display_data"
    }
   ],
   "source": [
    "# probability of wicket by run out\n",
    "df=odi_info[odi_scorecard['wicket']=='run out']\n",
    "slices=[len(df),(1707-len(df))]\n",
    "labels=['yes','no']\n",
    "mlt.pie(slices,labels=labels,startangle=90,shadow=True,explode=(0,0.05),autopct='%1.1f%%',colors=['r','y'])\n",
    "fig = mlt.gcf()\n",
    "fig.set_size_inches(6,6)\n",
    "mlt.show()"
   ]
  },
  {
   "cell_type": "code",
   "execution_count": 56,
   "metadata": {},
   "outputs": [
    {
     "name": "stderr",
     "output_type": "stream",
     "text": [
      "/home/payal/anaconda3/envs/home/lib/python3.7/site-packages/ipykernel_launcher.py:1: UserWarning:\n",
      "\n",
      "Boolean Series key will be reindexed to match DataFrame index.\n",
      "\n"
     ]
    },
    {
     "data": {
      "image/png": "[encoded data removed]",
      "text/plain": [
       "<Figure size 432x432 with 1 Axes>"
      ]
     },
     "metadata": {},
     "output_type": "display_data"
    }
   ],
   "source": [
    "# probability of wicket by caught and bowled\n",
    "df=odi_info[odi_scorecard['wicket']=='caught and bowled']\n",
    "slices=[len(df),(1707-len(df))]\n",
    "labels=['yes','no']\n",
    "mlt.pie(slices,labels=labels,startangle=90,shadow=True,explode=(0,0.05),autopct='%1.1f%%',colors=['r','g'])\n",
    "fig = mlt.gcf()\n",
    "fig.set_size_inches(6,6)\n",
    "mlt.show()"
   ]
  },
  {
   "cell_type": "code",
   "execution_count": 57,
   "metadata": {
    "scrolled": true
   },
   "outputs": [
    {
     "data": {
      "image/png": "[encoded data removed]",
      "text/plain": [
       "<Figure size 1332x756 with 1 Axes>"
      ]
     },
     "metadata": {},
     "output_type": "display_data"
    }
   ],
   "source": [
    "# Top 20 players with most MOM awards\n",
    "\n",
    "players=pd.DataFrame(odi_info['player-of-match'].value_counts())\n",
    "players['name']=players.index\n",
    "players=players.head(20)\n",
    "fig=plt.gcf()\n",
    "fig.set_size_inches(18.5,10.5)\n",
    "plt.xticks(rotation=90,fontsize=0)\n",
    "plt.yticks([0,2,4,6,8,10,12,14,16,18,20],[0,2,4,6,8,10,12,14,16,18,20],fontsize=15)\n",
    "plt.bar(players['name'], players['player-of-match'],\n",
    "        color=['#CD202D','#EF2920','#D4480B','#15244C','#FFFF48','#EF2920',\n",
    "               '#FFFF48','#FFFF48','#292734','#FFFF48','#ECC5F2','#EF2920',\n",
    "               '#292734','#15244C','#005DB7','#005DB7','#292734','#15244C',\n",
    "               '#FFFF48','#CD202D'],alpha=0.8)\n",
    "count=0\n",
    "for i in players['player-of-match']:\n",
    "    plt.text(count,7,players['name'][count]+': '+str(i),rotation=90,color='black',size=18)\n",
    "    count+=1\n",
    "plt.title('Top 20 players with most \"Man of the match\" awards',fontsize=20)\n",
    "plt.xlabel('Players',fontsize=20)\n",
    "plt.ylabel('No. of times won',fontsize=18)\n",
    "plt.tight_layout()\n",
    "plt.show()"
   ]
  },
  {
   "cell_type": "code",
   "execution_count": 58,
   "metadata": {},
   "outputs": [
    {
     "data": {
      "text/plain": [
       "Index(['match_id', 'team_name', 'innings', 'over_ball', 'name', 'ball_score',\n",
       "       'wicket', 'wicket_by', 'batsman_out', 'extras', 'ball_of_over'],\n",
       "      dtype='object')"
      ]
     },
     "execution_count": 58,
     "metadata": {},
     "output_type": "execute_result"
    }
   ],
   "source": [
    "odi_scorecard.columns"
   ]
  },
  {
   "cell_type": "code",
   "execution_count": 59,
   "metadata": {},
   "outputs": [
    {
     "data": {
      "text/plain": [
       "Index(['city', 'competition', 'date', 'match-id', 'gender', 'match-number',\n",
       "       'match-referee', 'method', 'neutralvenue', 'outcome', 'player-of-match',\n",
       "       'reserve-umpire', 'season', 'series', 'team-0', 'team-1',\n",
       "       'toss-decision', 'toss-winner', 'tv-umpire', 'umpire-0', 'umpire-1',\n",
       "       'venue', 'winner', 'winner-runs', 'winner-wickets', 'year'],\n",
       "      dtype='object')"
      ]
     },
     "execution_count": 59,
     "metadata": {},
     "output_type": "execute_result"
    }
   ],
   "source": [
    "odi_info.columns\n"
   ]
  },
  {
   "cell_type": "code",
   "execution_count": null,
   "metadata": {},
   "outputs": [],
   "source": []
  },
  {
   "cell_type": "code",
   "execution_count": null,
   "metadata": {},
   "outputs": [],
   "source": []
  }
 ],
 "metadata": {
  "kernelspec": {
   "display_name": "Python 3",
   "language": "python",
   "name": "python3"
  },
  "language_info": {
   "codemirror_mode": {
    "name": "ipython",
    "version": 3
   },
   "file_extension": ".py",
   "mimetype": "text/x-python",
   "name": "python",
   "nbconvert_exporter": "python",
   "pygments_lexer": "ipython3",
   "version": "3.7.4"
  }
 },
 "nbformat": 4,
 "nbformat_minor": 2
}
